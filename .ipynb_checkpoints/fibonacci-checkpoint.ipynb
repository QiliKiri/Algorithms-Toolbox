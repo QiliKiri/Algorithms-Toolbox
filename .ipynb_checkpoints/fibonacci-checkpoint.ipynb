{
 "cells": [
  {
   "cell_type": "code",
   "execution_count": 17,
   "id": "8734d5ca-d7f6-4334-a3f5-5057507ff201",
   "metadata": {},
   "outputs": [],
   "source": [
    "def calc_fib_naive(n):\n",
    "    if (n <= 1):\n",
    "        return n\n",
    "    return calc_fib(n - 1) + calc_fib(n - 2)"
   ]
  },
  {
   "cell_type": "code",
   "execution_count": 18,
   "id": "49432ab3-f90f-429f-afdf-775a8a73cc7a",
   "metadata": {},
   "outputs": [],
   "source": [
    "def calc_fib_fast(n):\n",
    "    if n == 1:\n",
    "        fib_list = [0]\n",
    "    elif n == 2:\n",
    "        fib_list = [0, 1]\n",
    "    else: \n",
    "        fib_list = [None]*n\n",
    "        fib_list[0], fib_list[1] = 0, 1\n",
    "        \n",
    "        for i in range(2, n):\n",
    "            fib_list[i] = fib_list[i-1] + fib_list[i-2]\n",
    "    \n",
    "    return fib_list[-1]"
   ]
  },
  {
   "cell_type": "code",
   "execution_count": 19,
   "id": "7627a268-c792-4d36-b442-513facffc1ba",
   "metadata": {},
   "outputs": [
    {
     "name": "stdin",
     "output_type": "stream",
     "text": [
      " 2\n"
     ]
    },
    {
     "name": "stdout",
     "output_type": "stream",
     "text": [
      "the nth fibonacci number: 1\n"
     ]
    }
   ],
   "source": [
    "n = int(input().strip())\n",
    "nth_fib = calc_fib_fast(n)\n",
    "print(f'the nth fibonacci number: {nth_fib}')"
   ]
  },
  {
   "cell_type": "code",
   "execution_count": null,
   "id": "70903fd0-609d-40fc-80b9-84cefda2013b",
   "metadata": {},
   "outputs": [],
   "source": []
  }
 ],
 "metadata": {
  "kernelspec": {
   "display_name": "Python 3",
   "language": "python",
   "name": "python3"
  },
  "language_info": {
   "codemirror_mode": {
    "name": "ipython",
    "version": 3
   },
   "file_extension": ".py",
   "mimetype": "text/x-python",
   "name": "python",
   "nbconvert_exporter": "python",
   "pygments_lexer": "ipython3",
   "version": "3.9.0"
  }
 },
 "nbformat": 4,
 "nbformat_minor": 5
}
