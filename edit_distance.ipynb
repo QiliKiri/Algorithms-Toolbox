{
 "cells": [
  {
   "cell_type": "code",
   "execution_count": 19,
   "id": "2bbc9d0e-b876-4898-aac9-43fdf74a2dfb",
   "metadata": {},
   "outputs": [],
   "source": [
    "def edit_distance(s1, s2):\n",
    "    m = len(s1) + 1\n",
    "    n = len(s2) + 1\n",
    "    \n",
    "    dp = [[None]*n, [None]*n]\n",
    "    r = None\n",
    "    \n",
    "    for i in range(m):\n",
    "        r = i%2\n",
    "        for j in range(n):\n",
    "            if i == 0:\n",
    "                dp[r][j] = j\n",
    "            elif j == 0:\n",
    "                dp[r][j] = i\n",
    "            elif s1[i-1] == s2[j-1]:\n",
    "                if r == 1:\n",
    "                    dp[r][j] = dp[r-1][j-1]\n",
    "                else:\n",
    "                    dp[r][j] = dp[r+1][j-1]\n",
    "            else:\n",
    "                if r == 1:\n",
    "                    dp[r][j] = min( 1 + dp[r][j-1],   # insert\n",
    "                                    1 + dp[r-1][j],   # remove\n",
    "                                    1 + dp[r-1][j-1]) # replace\n",
    "                else:\n",
    "                    dp[r][j] = min( 1 + dp[r][j-1],   # insert\n",
    "                                    1 + dp[r+1][j],   # remove\n",
    "                                    1 + dp[r+1][j-1]) # replace\n",
    "    \n",
    "    if m%2 == 1:\n",
    "        dp[0], dp[1] = dp[1], dp[0]\n",
    "    \n",
    "    return dp"
   ]
  },
  {
   "cell_type": "code",
   "execution_count": 25,
   "id": "3cacc399-ff0c-466f-9380-c0c5e1a0e4d2",
   "metadata": {},
   "outputs": [
    {
     "data": {
      "text/plain": [
       "[[4, 4, 3, 2, 3, 4], [5, 5, 4, 3, 2, 3]]"
      ]
     },
     "execution_count": 25,
     "metadata": {},
     "output_type": "execute_result"
    }
   ],
   "source": [
    "edit_distance('short', 'ports')"
   ]
  },
  {
   "cell_type": "code",
   "execution_count": 27,
   "id": "676c0051-bc53-4556-a992-d4b0ffe9cd02",
   "metadata": {},
   "outputs": [
    {
     "data": {
      "text/plain": [
       "[[6, 5, 4, 4, 4, 4, 3, 4, 5], [7, 6, 5, 5, 5, 5, 4, 4, 5]]"
      ]
     },
     "execution_count": 27,
     "metadata": {},
     "output_type": "execute_result"
    }
   ],
   "source": [
    "edit_distance('editing', 'distance')"
   ]
  },
  {
   "cell_type": "code",
   "execution_count": 34,
   "id": "c9463092-0cbc-48b9-9f00-986893774feb",
   "metadata": {},
   "outputs": [
    {
     "data": {
      "text/plain": [
       "[[1, 0, 1], [2, 1, 1]]"
      ]
     },
     "execution_count": 34,
     "metadata": {},
     "output_type": "execute_result"
    }
   ],
   "source": [
    "edit_distance('21', '23')"
   ]
  },
  {
   "cell_type": "code",
   "execution_count": null,
   "id": "3ee76f32-e13e-4348-af8e-e66e0ee68a50",
   "metadata": {},
   "outputs": [],
   "source": []
  }
 ],
 "metadata": {
  "kernelspec": {
   "display_name": "Python 3",
   "language": "python",
   "name": "python3"
  },
  "language_info": {
   "codemirror_mode": {
    "name": "ipython",
    "version": 3
   },
   "file_extension": ".py",
   "mimetype": "text/x-python",
   "name": "python",
   "nbconvert_exporter": "python",
   "pygments_lexer": "ipython3",
   "version": "3.9.0"
  }
 },
 "nbformat": 4,
 "nbformat_minor": 5
}
