{
 "cells": [
  {
   "cell_type": "markdown",
   "id": "0423b4e0-9aad-4ca0-8626-87131f7671e0",
   "metadata": {},
   "source": [
    "#### Task. \n",
    "The goal of this problem is to represent a given positive integer 𝑛 as a sum of as many pairwise distinct positive integers as possible. That is, to find the maximum 𝑘 such that 𝑛 can be written as 𝑎1 + 𝑎2 + · · · + 𝑎𝑘 where 𝑎1, . . . , 𝑎𝑘 are positive integers and 𝑎𝑖 ̸= 𝑎𝑗 for all 1 ≤ 𝑖 < 𝑗 ≤ 𝑘.\n",
    "#### Input Format. \n",
    "The input consists of a single integer 𝑛.\n",
    "#### Constraints. 1 ≤ 𝑛 ≤ 109.\n",
    "#### Output Format. \n",
    "In the first line, output the maximum number 𝑘 such that 𝑛 can be represented as a sum\n",
    "of 𝑘 pairwise distinct positive integers. In the second line, output 𝑘 pairwise distinct positive integers\n",
    "that sum up to 𝑛 (if there are many such representations, output any of them).\n"
   ]
  },
  {
   "cell_type": "markdown",
   "id": "e7c34c46-8c40-4cdc-b4a6-24cdae976985",
   "metadata": {},
   "source": [
    "### My solution:\n",
    "This one is easy, we distribute the number from 1, if the (remaining sum - the distributed number) >= 0, we record this number and minus it from the sum. Then we increase the distributed number by 1, repeat the process. Untill the (remaining sum - the distributed number) < 0, we add the remaining sum to the last distributed number."
   ]
  },
  {
   "cell_type": "code",
   "execution_count": 7,
   "id": "56860189-0bed-4da6-8dc9-58aaba6f46e6",
   "metadata": {},
   "outputs": [],
   "source": [
    "def optimal_summands(n):\n",
    "    distribute_list = []\n",
    "    num_tobe_distributed = 1\n",
    "    remainder = n\n",
    "    \n",
    "    while True:\n",
    "        if (remainder - num_tobe_distributed) >= 0:\n",
    "            distribute_list.append(num_tobe_distributed)\n",
    "            remainder -= num_tobe_distributed\n",
    "            num_tobe_distributed += 1\n",
    "        else:\n",
    "            distribute_list[-1] += remainder\n",
    "            break\n",
    "            \n",
    "    return distribute_list"
   ]
  },
  {
   "cell_type": "code",
   "execution_count": 12,
   "id": "2d9fecf5-6bc3-4b19-acbb-b16ecced9276",
   "metadata": {},
   "outputs": [
    {
     "name": "stdout",
     "output_type": "stream",
     "text": [
      "1\n",
      "2 "
     ]
    }
   ],
   "source": [
    "n = 2\n",
    "summands = optimal_summands(n)\n",
    "print(len(summands))\n",
    "for x in summands:\n",
    "    print(x, end=' ')"
   ]
  },
  {
   "cell_type": "code",
   "execution_count": null,
   "id": "40d6a237-5db5-4844-a8b8-04c615cc8f1e",
   "metadata": {},
   "outputs": [],
   "source": []
  }
 ],
 "metadata": {
  "kernelspec": {
   "display_name": "Python 3",
   "language": "python",
   "name": "python3"
  },
  "language_info": {
   "codemirror_mode": {
    "name": "ipython",
    "version": 3
   },
   "file_extension": ".py",
   "mimetype": "text/x-python",
   "name": "python",
   "nbconvert_exporter": "python",
   "pygments_lexer": "ipython3",
   "version": "3.9.0"
  }
 },
 "nbformat": 4,
 "nbformat_minor": 5
}
