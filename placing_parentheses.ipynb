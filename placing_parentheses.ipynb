{
 "cells": [
  {
   "cell_type": "code",
   "execution_count": 13,
   "id": "3628a12c-ad09-4d82-aec9-7df2d3b37f5e",
   "metadata": {},
   "outputs": [],
   "source": [
    "def evalt(a, b, op):\n",
    "    if op == '+':\n",
    "        return a + b\n",
    "    elif op == '-':\n",
    "        return a - b\n",
    "    elif op == '*':\n",
    "        return a * b\n",
    "    else:\n",
    "        assert False"
   ]
  },
  {
   "cell_type": "code",
   "execution_count": 58,
   "id": "23e8024b-b0d7-481e-9bb9-7b49cf9c99b8",
   "metadata": {},
   "outputs": [],
   "source": [
    "import numpy as np\n",
    "def get_maximum_value(dataset):\n",
    "    nums = dataset[::2]\n",
    "    nums = [float(num) for num in nums]\n",
    "    oper = dataset[1::2]\n",
    "    \n",
    "    m = len(nums)\n",
    "\n",
    "    dpm = np.zeros((m+1, m+1))\n",
    "    dpM = np.zeros((m+1, m+1))\n",
    "    min_lst = []\n",
    "    max_lst = []\n",
    "    for i in range(1, m+1):\n",
    "        dpm[i][i] = nums[i-1]\n",
    "        dpM[i][i] = nums[i-1]\n",
    "    \n",
    "    for s in range(1, m+1):\n",
    "        for i in range(1, m-s+1):\n",
    "            j = i + s\n",
    "            mini = float('inf')\n",
    "            maxi = float('-inf')\n",
    "            for k in range(i, j):\n",
    "                a = evalt(dpm[i][k], dpm[k+1][j], oper[k-1])\n",
    "                b = evalt(dpM[i][k], dpM[k+1][j], oper[k-1])\n",
    "                c = evalt(dpm[i][k], dpM[k+1][j], oper[k-1])\n",
    "                d = evalt(dpM[i][k], dpm[k+1][j], oper[k-1])\n",
    "                \n",
    "                mini = min(mini, a, b, c, d)\n",
    "                maxi = max(maxi, a, b, c, d)\n",
    "                \n",
    "            dpm[i][j] = mini\n",
    "            dpM[i][j] = maxi\n",
    "            \n",
    "    return dpm, dpM"
   ]
  },
  {
   "cell_type": "code",
   "execution_count": 59,
   "id": "4f1b9cb5-7a3a-494f-a0e4-99ef4f001b6f",
   "metadata": {},
   "outputs": [],
   "source": [
    "dataset = '5-8+7*4-8+9'\n",
    "dpm, dpM = get_maximum_value(dataset)"
   ]
  },
  {
   "cell_type": "code",
   "execution_count": 60,
   "id": "26762486-a119-4b7c-a756-66f43f4a5ea9",
   "metadata": {},
   "outputs": [
    {
     "data": {
      "text/plain": [
       "array([[   0.,    0.,    0.,    0.,    0.,    0.,    0.],\n",
       "       [   0.,    5.,   -3.,  -10.,  -55.,  -63.,  -94.],\n",
       "       [   0.,    0.,    8.,   15.,   36.,  -60., -195.],\n",
       "       [   0.,    0.,    0.,    7.,   28.,  -28.,  -91.],\n",
       "       [   0.,    0.,    0.,    0.,    4.,   -4.,  -13.],\n",
       "       [   0.,    0.,    0.,    0.,    0.,    8.,   17.],\n",
       "       [   0.,    0.,    0.,    0.,    0.,    0.,    9.]])"
      ]
     },
     "execution_count": 60,
     "metadata": {},
     "output_type": "execute_result"
    }
   ],
   "source": [
    "dpm"
   ]
  },
  {
   "cell_type": "code",
   "execution_count": 63,
   "id": "08dd1a7b-36ca-4920-8958-767f7866bed7",
   "metadata": {},
   "outputs": [
    {
     "data": {
      "text/plain": [
       "array([[  0.,   0.,   0.,   0.,   0.,   0.,   0.],\n",
       "       [  0.,   5.,  -3.,   4.,  25.,  65., 200.],\n",
       "       [  0.,   0.,   8.,  15.,  60.,  52.,  75.],\n",
       "       [  0.,   0.,   0.,   7.,  28.,  20.,  35.],\n",
       "       [  0.,   0.,   0.,   0.,   4.,  -4.,   5.],\n",
       "       [  0.,   0.,   0.,   0.,   0.,   8.,  17.],\n",
       "       [  0.,   0.,   0.,   0.,   0.,   0.,   9.]])"
      ]
     },
     "execution_count": 63,
     "metadata": {},
     "output_type": "execute_result"
    }
   ],
   "source": [
    "dpM"
   ]
  },
  {
   "cell_type": "code",
   "execution_count": 47,
   "id": "f77d5401-0ec6-4d9c-a61e-ec833a3c03fd",
   "metadata": {},
   "outputs": [],
   "source": [
    "dataset = '5+1'\n",
    "dpm, dpM = get_maximum_value(dataset)"
   ]
  },
  {
   "cell_type": "code",
   "execution_count": 48,
   "id": "afe68a50-9147-46e0-ae67-8db208304fd5",
   "metadata": {},
   "outputs": [
    {
     "data": {
      "text/plain": [
       "array([[0., 0., 0.],\n",
       "       [0., 5., 6.],\n",
       "       [0., 0., 1.]])"
      ]
     },
     "execution_count": 48,
     "metadata": {},
     "output_type": "execute_result"
    }
   ],
   "source": [
    "dpM"
   ]
  },
  {
   "cell_type": "code",
   "execution_count": 49,
   "id": "5d39039d-eff0-434b-a3c1-e3753b6b2061",
   "metadata": {},
   "outputs": [
    {
     "data": {
      "text/plain": [
       "'-+*-+'"
      ]
     },
     "execution_count": 49,
     "metadata": {},
     "output_type": "execute_result"
    }
   ],
   "source": [
    "dataset = '5-8+7*4-8+9'\n",
    "dataset[1::2]"
   ]
  },
  {
   "cell_type": "code",
   "execution_count": null,
   "id": "f634357e-854a-4d8f-97ee-747cc120c2ed",
   "metadata": {},
   "outputs": [],
   "source": []
  }
 ],
 "metadata": {
  "kernelspec": {
   "display_name": "Python 3",
   "language": "python",
   "name": "python3"
  },
  "language_info": {
   "codemirror_mode": {
    "name": "ipython",
    "version": 3
   },
   "file_extension": ".py",
   "mimetype": "text/x-python",
   "name": "python",
   "nbconvert_exporter": "python",
   "pygments_lexer": "ipython3",
   "version": "3.9.0"
  }
 },
 "nbformat": 4,
 "nbformat_minor": 5
}
