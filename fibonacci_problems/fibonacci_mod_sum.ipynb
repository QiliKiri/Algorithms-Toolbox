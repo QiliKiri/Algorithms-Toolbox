{
 "cells": [
  {
   "cell_type": "markdown",
   "id": "b3271f77-d872-4cf7-b896-a4840e04ba5e",
   "metadata": {},
   "source": [
    "### Question: find (F1 + F2 + ... + Fn) % m"
   ]
  },
  {
   "cell_type": "markdown",
   "id": "734839a1-7e32-4531-bd36-fea6454c308c",
   "metadata": {},
   "source": [
    "\"since the mod of the sum of remainder within a period is zero, we can ignore the full periods and only calculate the remaining.\n",
    "<br>\n",
    "for example, mod 2 has period of 3, the first 3 remainder is 0, 1, 1. (0+1+1)%2 = 0.\n",
    "<br>\n",
    "for F4 mod 2, which has 1 full period and 4%3=1 left. so we simply calculate F1 mod 2\n",
    "and get the answer.\" \n",
    "<br>\n",
    "----me"
   ]
  },
  {
   "cell_type": "markdown",
   "id": "7b15fea6-1cb4-4b5b-92d5-db16fb988289",
   "metadata": {},
   "source": [
    "\"you can use the period_sum_mod function to verify that the mod of the sum of the remainder is 0.\"  ----me"
   ]
  },
  {
   "cell_type": "markdown",
   "id": "f228ed70-939d-454b-a627-569d2fd8a620",
   "metadata": {},
   "source": [
    "m >= 2"
   ]
  },
  {
   "cell_type": "code",
   "execution_count": 22,
   "id": "a67a97ed-cd12-4f1e-b20d-f32cddf9bfe9",
   "metadata": {},
   "outputs": [],
   "source": [
    "def period_sum_mod(period_len, m):\n",
    "    a, b = 0, 1\n",
    "    sum = 1\n",
    "    \n",
    "    for i in range(period_len-2): # i.e. period_len = 8, we need to generate first 8 number. since first 2 are defined, only need to generate 8-2=6 numbers.\n",
    "        a, b = b, (a+b) % m       # get the remainder of new number\n",
    "        sum += b                  # sum the remainder up\n",
    "        sum %= m                  # we only need the remainder of the sum\n",
    "        \n",
    "    return sum"
   ]
  },
  {
   "cell_type": "code",
   "execution_count": 21,
   "id": "2e066dfd-d4c2-4afc-9b69-5098fb564404",
   "metadata": {},
   "outputs": [],
   "source": [
    "def get_period_len(n, m):\n",
    "    a, b = 0, 1\n",
    "    count = 2\n",
    "    period_len = None\n",
    "    flag = False\n",
    "    \n",
    "    for i in range(n-1):\n",
    "        a, b = b, (a+b) % m\n",
    "        count += 1\n",
    "        if (a == 0) and (b == 1):\n",
    "            period_len = count - 2\n",
    "            flag = True\n",
    "            break\n",
    "    \n",
    "    if flag:\n",
    "        return period_len\n",
    "    else:\n",
    "        return -1"
   ]
  },
  {
   "cell_type": "code",
   "execution_count": 23,
   "id": "9dd5335f-8f6d-4a96-bf75-d3f8770ecfae",
   "metadata": {},
   "outputs": [],
   "source": [
    "def upto_ith_sum_mod(period_len, n, m):\n",
    "    ith = n % period_len\n",
    "    if ith == 0:\n",
    "        return 0\n",
    "    elif ith == 1:\n",
    "        return 1\n",
    "    else:\n",
    "        a, b = 0, 1\n",
    "        sum = 1\n",
    "        for i in range(ith-1):  # to achieve ith Fib, we need ith+1 numbers. since first 2 is defined, so we only generate ith-1 numbers.\n",
    "            a, b = b, (a+b) % m \n",
    "            sum += b\n",
    "            sum %= m\n",
    "            \n",
    "    return sum"
   ]
  },
  {
   "cell_type": "code",
   "execution_count": 26,
   "id": "83372fd0-b92f-4a8c-9990-adc07cc2bc8a",
   "metadata": {},
   "outputs": [],
   "source": [
    "def fibonacci_mod_sum(n, m):\n",
    "    if n == 0:\n",
    "        return 0\n",
    "    elif n == 1:\n",
    "        return 1\n",
    "    \n",
    "    period_len = get_period_len(n, m)\n",
    "    if period_len == -1:\n",
    "        a, b = 0, 1\n",
    "        sum = 1\n",
    "        for i in range(n-1):\n",
    "            a, b = b, (a+b) % m\n",
    "            sum += b\n",
    "            sum %= m\n",
    "        return sum\n",
    "    else:\n",
    "        sum = upto_ith_sum_mod(period_len, n, m)\n",
    "        \n",
    "        return sum      "
   ]
  },
  {
   "cell_type": "code",
   "execution_count": 27,
   "id": "e074cae6-cf15-4795-aeda-15f3143763cc",
   "metadata": {},
   "outputs": [
    {
     "data": {
      "text/plain": [
       "3"
      ]
     },
     "execution_count": 27,
     "metadata": {},
     "output_type": "execute_result"
    }
   ],
   "source": [
    "fibonacci_mod_sum(10, 10)"
   ]
  }
 ],
 "metadata": {
  "kernelspec": {
   "display_name": "Python 3",
   "language": "python",
   "name": "python3"
  },
  "language_info": {
   "codemirror_mode": {
    "name": "ipython",
    "version": 3
   },
   "file_extension": ".py",
   "mimetype": "text/x-python",
   "name": "python",
   "nbconvert_exporter": "python",
   "pygments_lexer": "ipython3",
   "version": "3.9.0"
  }
 },
 "nbformat": 4,
 "nbformat_minor": 5
}
