{
 "cells": [
  {
   "cell_type": "markdown",
   "id": "ee54209c-17ec-4a8f-8ac2-93d66fa735df",
   "metadata": {},
   "source": [
    "### Not Solved"
   ]
  },
  {
   "cell_type": "code",
   "execution_count": 4,
   "id": "eceb0565-e370-4bc4-bd79-2ed1dfcb233d",
   "metadata": {},
   "outputs": [],
   "source": [
    "def form_points(x, y):\n",
    "    points = [point for point in zip(x, y)]\n",
    "    \n",
    "    return points"
   ]
  },
  {
   "cell_type": "code",
   "execution_count": 5,
   "id": "41dfc1ce-9c72-43ae-88f8-b2517c875a49",
   "metadata": {},
   "outputs": [],
   "source": [
    "def distance(point1, point2):\n",
    "    p1_x = point1[0]\n",
    "    p1_y = point1[1]\n",
    "    p2_x = point2[0]\n",
    "    p2_y = point2[1]\n",
    "    \n",
    "    dis = ((p2_x - p1_x)**2 + (p2_y - p1_y)**2)**0.5\n",
    "    \n",
    "    return dis"
   ]
  },
  {
   "cell_type": "code",
   "execution_count": 14,
   "id": "688c1775-911a-4f24-b73b-dafc2085913b",
   "metadata": {},
   "outputs": [],
   "source": [
    "def strip(points, mid_x, d):\n",
    "    strip_points = []\n",
    "    for point in points:\n",
    "        if ((point[0] - mid_x)**2)**0.5 <= d:\n",
    "            strip_points.append(point)\n",
    "            \n",
    "    return strip_points"
   ]
  },
  {
   "cell_type": "code",
   "execution_count": 15,
   "id": "fd69625d-e8c0-4d12-941c-0fe32910e56f",
   "metadata": {},
   "outputs": [],
   "source": [
    "def strip_distance(strip_points, d):\n",
    "    if len(strip_points) < 2:\n",
    "        return d\n",
    "    elif len(strip_points) <= 7:\n",
    "        for i in range(len(strip_points)-1):\n",
    "            for j in range(i+1, min(i+5, len(strip_points))):\n",
    "                p_dis = distance(strip_points[i], strip_points[j])\n",
    "                if p_dis < d:\n",
    "                    d = p_dis\n",
    "                    break\n",
    "        return d\n",
    "    else:\n",
    "        for i in range(len(strip_points)-7):\n",
    "            for j in range(i+1, i+1+7):\n",
    "                p_dis = distance(strip_points[i], strip_points[j])\n",
    "                if p_dis < d:\n",
    "                    d = p_dis\n",
    "                    break\n",
    "        return d"
   ]
  },
  {
   "cell_type": "code",
   "execution_count": 16,
   "id": "456e408c-21d1-4717-a884-44240ad0396e",
   "metadata": {},
   "outputs": [],
   "source": [
    "def minimum_distance(points):\n",
    "    if len(points) == 2:\n",
    "        return distance(points[0], points[1])\n",
    "    elif len(points) == 3:\n",
    "        return min(distance(points[0], points[1]), distance(points[0], points[2]), distance(points[1], points[2]))\n",
    "    \n",
    "    mid = len(points)//2\n",
    "    left = points[:mid]\n",
    "    right = points[mid:]\n",
    "    \n",
    "    d1 = minimum_distance(left)\n",
    "    d2 = minimum_distance(right)\n",
    "    \n",
    "    d = min(d1, d2)\n",
    "    mid_x = (left[-1][0] + right[0][0]) / 2\n",
    "    strip_points = strip(points, mid_x, d)\n",
    "    d = strip_distance(strip_points, d)\n",
    "    \n",
    "    \n",
    "    return d"
   ]
  },
  {
   "cell_type": "markdown",
   "id": "c8dc9911-c9ff-44cf-bc81-087202e43614",
   "metadata": {},
   "source": [
    "### Test Cases"
   ]
  },
  {
   "cell_type": "code",
   "execution_count": 17,
   "id": "b2247c5b-272c-423d-8350-3af88f6c1ccc",
   "metadata": {},
   "outputs": [
    {
     "data": {
      "text/plain": [
       "5.0"
      ]
     },
     "execution_count": 17,
     "metadata": {},
     "output_type": "execute_result"
    }
   ],
   "source": [
    "x = [0, 3]\n",
    "y = [0, 4]\n",
    "\n",
    "points = form_points(x, y)\n",
    "points = sorted(points, key=lambda x: (x[0], x[1]))\n",
    "\n",
    "minimum_distance(points)"
   ]
  },
  {
   "cell_type": "code",
   "execution_count": 18,
   "id": "1eeea2d9-6c2c-4e19-a9c5-f0bb7852da30",
   "metadata": {},
   "outputs": [
    {
     "data": {
      "text/plain": [
       "0.0"
      ]
     },
     "execution_count": 18,
     "metadata": {},
     "output_type": "execute_result"
    }
   ],
   "source": [
    "x = [7, 1, 4, 7]\n",
    "y = [7, 100, 8, 7]\n",
    "\n",
    "points = form_points(x, y)\n",
    "points = sorted(points, key=lambda x: (x[0], x[1]))\n",
    "\n",
    "minimum_distance(points)"
   ]
  },
  {
   "cell_type": "code",
   "execution_count": 19,
   "id": "1597ab86-0bbd-40a8-9df3-f488a0d02dca",
   "metadata": {},
   "outputs": [
    {
     "data": {
      "text/plain": [
       "1.4142135623730951"
      ]
     },
     "execution_count": 19,
     "metadata": {},
     "output_type": "execute_result"
    }
   ],
   "source": [
    "x = [-2, -3, -1, 2, -4, 1, -1, 3, -4, -2]\n",
    "y = [-2, -4, 3, 3, 0, 1, -1, -1, 2, 4]\n",
    "\n",
    "points = form_points(x, y)\n",
    "points = sorted(points, key=lambda x: (x[0], x[1]))\n",
    "\n",
    "minimum_distance(points)"
   ]
  },
  {
   "cell_type": "code",
   "execution_count": 20,
   "id": "912aaf7b-a4a1-46c1-ac15-4164bc8bb6fc",
   "metadata": {},
   "outputs": [
    {
     "data": {
      "text/plain": [
       "2.23606797749979"
      ]
     },
     "execution_count": 20,
     "metadata": {},
     "output_type": "execute_result"
    }
   ],
   "source": [
    "x = [-9, -4, -4, -1, 1, 1]\n",
    "y = [-2, -8, -1, 7, 10, 6]\n",
    "\n",
    "points = form_points(x, y)\n",
    "points = sorted(points, key=lambda x: (x[0], x[1]))\n",
    "\n",
    "minimum_distance(points)"
   ]
  },
  {
   "cell_type": "code",
   "execution_count": 21,
   "id": "7830217c-3732-41c4-9a83-17129e300953",
   "metadata": {},
   "outputs": [
    {
     "data": {
      "text/plain": [
       "0.0"
      ]
     },
     "execution_count": 21,
     "metadata": {},
     "output_type": "execute_result"
    }
   ],
   "source": [
    "x = [4, 4, 4, 4]\n",
    "y = [5, 5, 5, 5]\n",
    "\n",
    "points = form_points(x, y)\n",
    "points = sorted(points, key=lambda x: (x[0], x[1]))\n",
    "\n",
    "minimum_distance(points)"
   ]
  },
  {
   "cell_type": "code",
   "execution_count": null,
   "id": "8b9469a6-2729-4545-a450-35f04fbb5efa",
   "metadata": {},
   "outputs": [],
   "source": []
  }
 ],
 "metadata": {
  "kernelspec": {
   "display_name": "Python 3",
   "language": "python",
   "name": "python3"
  },
  "language_info": {
   "codemirror_mode": {
    "name": "ipython",
    "version": 3
   },
   "file_extension": ".py",
   "mimetype": "text/x-python",
   "name": "python",
   "nbconvert_exporter": "python",
   "pygments_lexer": "ipython3",
   "version": "3.9.0"
  }
 },
 "nbformat": 4,
 "nbformat_minor": 5
}
