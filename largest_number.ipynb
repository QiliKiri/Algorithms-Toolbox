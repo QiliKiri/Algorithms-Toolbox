{
 "cells": [
  {
   "cell_type": "markdown",
   "id": "3c92d814-2610-48dd-a113-230aa2db7e2e",
   "metadata": {},
   "source": [
    "#### Task. \n",
    "Compose the largest number out of a set of integers.\n",
    "#### Constraints. \n",
    "1 ≤ 𝑛 ≤ 100; 1 ≤ 𝑎𝑖 ≤ 103; for all 1 ≤ 𝑖 ≤ 𝑛.\n",
    "#### Output Format. \n",
    "Output the largest number that can be composed out of 𝑎1, 𝑎2, . . . , 𝑎𝑛."
   ]
  },
  {
   "cell_type": "markdown",
   "id": "a4579a7d-6538-49f7-84b1-1249d0ac2c11",
   "metadata": {},
   "source": [
    "### My solution:\n",
    "For any two positive interger, deciding which one put first the form the largest number. Here is my solution, I call it 'cirular compare'. Below is an example to help understand.\n",
    "* for two number: a = 151 and b = 15\n",
    "* step 1, we compare the first digit of both a and b first: 1 vs 1\n",
    "* step 2, they are equal, then we move to next digit: 5 vs 5\n",
    "* step 3, they are equal, then we move to next digit\n",
    "* a has three digits so the digit is 1, but b runs out of digit, how to deal with it?\n",
    "* we move back to the first digit of b, that's 1\n",
    "* so step 3, 1 vs 1\n",
    "* step 4, they are equal, then we move to next digit\n",
    "* a runs out digit, so we move back to first digit of a\n",
    "* step 4, 1 vs 5, b's digit > a's digit\n",
    "* finally, the answer is put b in front of a"
   ]
  },
  {
   "cell_type": "code",
   "execution_count": 78,
   "id": "8ca3a029-ef1e-447e-8274-02b3796b94c3",
   "metadata": {},
   "outputs": [],
   "source": [
    "def circular_compare(num, max_num):\n",
    "    num_digits = [int(d) for d in str(num)]\n",
    "    max_num_digits = [int(d) for d in str(max_num)]\n",
    "    \n",
    "    num_len = len(num_digits)\n",
    "    max_num_len = len(max_num_digits)\n",
    "    \n",
    "    i = 0\n",
    "    j = 0\n",
    "    loop_through_num = 0\n",
    "    loop_through_max_num = 0\n",
    "    \n",
    "    while True:\n",
    "        if (loop_through_num >= 2) and (loop_through_max_num >= 2):\n",
    "            return max_num\n",
    "        if i >= num_len:\n",
    "            i = 0\n",
    "            loop_through_num += 1\n",
    "        if j >= max_num_len:\n",
    "            j = 0\n",
    "            loop_through_max_num += 1\n",
    "        if num_digits[i] > max_num_digits[j]:\n",
    "            return num\n",
    "        elif num_digits[i] < max_num_digits[j]:\n",
    "            return max_num\n",
    "        else:\n",
    "            i += 1\n",
    "            j += 1"
   ]
  },
  {
   "cell_type": "code",
   "execution_count": 81,
   "id": "ea4d1a72-c3dd-47ad-9d13-f1c6f58bbe75",
   "metadata": {},
   "outputs": [
    {
     "data": {
      "text/plain": [
       "7979"
      ]
     },
     "execution_count": 81,
     "metadata": {},
     "output_type": "execute_result"
    }
   ],
   "source": [
    "circular_compare(79, 7979)"
   ]
  },
  {
   "cell_type": "code",
   "execution_count": 82,
   "id": "5bd8ca4c-e11a-4f79-8348-b9538960e5d9",
   "metadata": {},
   "outputs": [],
   "source": [
    "def largest_number(num_list):\n",
    "    ans = ''\n",
    "    \n",
    "    while num_list != []:\n",
    "        max_num = num_list[0]\n",
    "        for num in num_list:\n",
    "            max_num = circular_compare(num, max_num)\n",
    "        ans += str(max_num)\n",
    "        num_list.remove(max_num)\n",
    "    return ans"
   ]
  },
  {
   "cell_type": "code",
   "execution_count": 85,
   "id": "99c8ee76-1bca-439f-91bb-bb326f71ac69",
   "metadata": {},
   "outputs": [
    {
     "data": {
      "text/plain": [
       "'797979'"
      ]
     },
     "execution_count": 85,
     "metadata": {},
     "output_type": "execute_result"
    }
   ],
   "source": [
    "num_list = [79, 7979]\n",
    "largest_number(num_list)"
   ]
  },
  {
   "cell_type": "code",
   "execution_count": null,
   "id": "2e12437a-0c69-4139-adb5-38c34bb02cda",
   "metadata": {},
   "outputs": [],
   "source": []
  }
 ],
 "metadata": {
  "kernelspec": {
   "display_name": "Python 3",
   "language": "python",
   "name": "python3"
  },
  "language_info": {
   "codemirror_mode": {
    "name": "ipython",
    "version": 3
   },
   "file_extension": ".py",
   "mimetype": "text/x-python",
   "name": "python",
   "nbconvert_exporter": "python",
   "pygments_lexer": "ipython3",
   "version": "3.9.0"
  }
 },
 "nbformat": 4,
 "nbformat_minor": 5
}
