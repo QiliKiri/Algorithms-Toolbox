{
 "cells": [
  {
   "cell_type": "code",
   "execution_count": 2,
   "id": "80bde9d4-fde6-4c36-8e29-ca996882f1c4",
   "metadata": {},
   "outputs": [],
   "source": [
    "import random"
   ]
  },
  {
   "cell_type": "code",
   "execution_count": 3,
   "id": "f131fa10-725c-4461-a2d9-66a03332fe50",
   "metadata": {},
   "outputs": [],
   "source": [
    "def partition3(a, l, r):\n",
    "    x = a[l]\n",
    "    pivot = l\n",
    "    same = l\n",
    "    \n",
    "    for i in range(l+1, r+1):\n",
    "        if a[i] < x:\n",
    "            a[pivot], a[i] = a[i], a[pivot]\n",
    "            a[same+1], a[i] = a[i], a[same+1]\n",
    "            pivot += 1\n",
    "            same += 1\n",
    "        elif a[i] == x:\n",
    "            a[same+1], a[i] = a[i], a[same+1]\n",
    "            same += 1\n",
    "        \n",
    "    return pivot, same\n",
    "            "
   ]
  },
  {
   "cell_type": "code",
   "execution_count": 4,
   "id": "a20086ba-791b-4de2-8ae0-d971f8807ed5",
   "metadata": {},
   "outputs": [],
   "source": [
    "def randomized_quick_sort(a, l, r):\n",
    "    if l >= r:\n",
    "        return\n",
    "    k = random.randint(l, r)\n",
    "    a[l], a[k] = a[k], a[l]\n",
    "    pivot, same = partition3(a, l, r)\n",
    "    randomized_quick_sort(a, l, pivot - 1);\n",
    "    randomized_quick_sort(a, same + 1, r);"
   ]
  },
  {
   "cell_type": "code",
   "execution_count": 5,
   "id": "ac077b3c-d31a-4025-ba9e-c7aeb974f55a",
   "metadata": {},
   "outputs": [],
   "source": [
    "a = [3, 9, 4, 1, 2, 3, 15, 17, 25, 17]"
   ]
  },
  {
   "cell_type": "code",
   "execution_count": 6,
   "id": "c9b52448-0d4d-4927-9162-b58a5dcc90cf",
   "metadata": {},
   "outputs": [
    {
     "data": {
      "text/plain": [
       "[1, 2, 3, 3, 4, 9, 15, 17, 17, 25]"
      ]
     },
     "execution_count": 6,
     "metadata": {},
     "output_type": "execute_result"
    }
   ],
   "source": [
    "randomized_quick_sort(a, 0, 9)\n",
    "a"
   ]
  },
  {
   "cell_type": "code",
   "execution_count": 7,
   "id": "a308a67f-4173-4c7c-b80f-f0e6b997deb9",
   "metadata": {},
   "outputs": [],
   "source": [
    "a = [9, 3, 9]"
   ]
  },
  {
   "cell_type": "code",
   "execution_count": 8,
   "id": "273825c9-9ff4-461c-8701-ba0dc88d0567",
   "metadata": {
    "tags": []
   },
   "outputs": [
    {
     "data": {
      "text/plain": [
       "[3, 9, 9]"
      ]
     },
     "execution_count": 8,
     "metadata": {},
     "output_type": "execute_result"
    }
   ],
   "source": [
    "randomized_quick_sort(a, 0, 2)\n",
    "a"
   ]
  },
  {
   "cell_type": "code",
   "execution_count": null,
   "id": "90b844cc-0af6-4046-bf27-eabd0ec36e98",
   "metadata": {},
   "outputs": [],
   "source": []
  }
 ],
 "metadata": {
  "kernelspec": {
   "display_name": "Python 3",
   "language": "python",
   "name": "python3"
  },
  "language_info": {
   "codemirror_mode": {
    "name": "ipython",
    "version": 3
   },
   "file_extension": ".py",
   "mimetype": "text/x-python",
   "name": "python",
   "nbconvert_exporter": "python",
   "pygments_lexer": "ipython3",
   "version": "3.9.0"
  }
 },
 "nbformat": 4,
 "nbformat_minor": 5
}
