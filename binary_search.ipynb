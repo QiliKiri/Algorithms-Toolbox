{
 "cells": [
  {
   "cell_type": "markdown",
   "id": "9611e7f7-d7cb-4ced-92a1-e14651591314",
   "metadata": {},
   "source": [
    "### Input Format. \n",
    "The firt list contains 𝑎0 < 𝑎1 < . . . < 𝑎𝑛−1 of 𝑛 pairwise distinct positive integers in increasing order. The next list contains 𝑘 positive integers 𝑏0, 𝑏1, . . . , 𝑏𝑘−1.\n",
    "### Constraints. \n",
    "1 ≤ 𝑘 ≤ 105; 1 ≤ 𝑛 ≤ 3 · 104; 1 ≤ 𝑎𝑖 ≤ 109 for all 0 ≤ 𝑖 < 𝑛;  1 ≤ 𝑏𝑗 ≤ 109for all 0 ≤ 𝑗 < 𝑘;\n",
    "### Output Format. \n",
    "For all 𝑖 from 0 to 𝑘 − 1, output an index 0 ≤ 𝑗 ≤ 𝑛 − 1 such that 𝑎𝑗 = 𝑏𝑖 or −1 if there is no such index."
   ]
  },
  {
   "cell_type": "code",
   "execution_count": 14,
   "id": "837f0706-5d1d-4dde-9f2f-6313a6415c32",
   "metadata": {},
   "outputs": [],
   "source": [
    "def binary_search(lst, num):\n",
    "    low_bound = 0 \n",
    "    high_bound = len(lst) - 1\n",
    "    \n",
    "    while True:\n",
    "        mid = (low_bound + high_bound) // 2\n",
    "        if low_bound > high_bound:\n",
    "            return -1\n",
    "        if num == lst[mid]:\n",
    "            return mid\n",
    "        elif num > lst[mid]:\n",
    "            low_bound = mid + 1\n",
    "        elif num < lst[mid]:\n",
    "            high_bound = mid - 1"
   ]
  },
  {
   "cell_type": "code",
   "execution_count": 18,
   "id": "561f23ea-a18b-4c85-89d8-364e2028e682",
   "metadata": {},
   "outputs": [],
   "source": [
    "def main(lst, nums):\n",
    "    for num in nums:\n",
    "        i = binary_search(lst, num)\n",
    "        print(i)"
   ]
  },
  {
   "cell_type": "markdown",
   "id": "6d635a05-3cfa-4da2-8b11-8b125d2a1ad7",
   "metadata": {},
   "source": [
    "### Sample run"
   ]
  },
  {
   "cell_type": "code",
   "execution_count": 19,
   "id": "cfbbbd86-4e21-4e5e-bab9-104bd0aefa43",
   "metadata": {},
   "outputs": [],
   "source": [
    "lst = [1, 5, 8, 12, 13]\n",
    "nums = [8, 1, 23, 1, 11]"
   ]
  },
  {
   "cell_type": "code",
   "execution_count": 20,
   "id": "bea6e2c3-3b8c-4f82-8871-4ced6311a56a",
   "metadata": {},
   "outputs": [
    {
     "name": "stdout",
     "output_type": "stream",
     "text": [
      "2\n",
      "0\n",
      "-1\n",
      "0\n",
      "-1\n"
     ]
    }
   ],
   "source": [
    "main(lst, nums)"
   ]
  },
  {
   "cell_type": "code",
   "execution_count": null,
   "id": "e4d39204-0fdf-44dc-94d1-5e6a901aad57",
   "metadata": {},
   "outputs": [],
   "source": []
  }
 ],
 "metadata": {
  "kernelspec": {
   "display_name": "Python 3",
   "language": "python",
   "name": "python3"
  },
  "language_info": {
   "codemirror_mode": {
    "name": "ipython",
    "version": 3
   },
   "file_extension": ".py",
   "mimetype": "text/x-python",
   "name": "python",
   "nbconvert_exporter": "python",
   "pygments_lexer": "ipython3",
   "version": "3.9.0"
  }
 },
 "nbformat": 4,
 "nbformat_minor": 5
}
