{
 "cells": [
  {
   "cell_type": "markdown",
   "id": "c020875a-f6ba-40c0-bcbe-bcdb6edbfc25",
   "metadata": {},
   "source": [
    "### Question: find (Fi + Fi+1 + ... + Fn-1 + Fn) % m"
   ]
  },
  {
   "cell_type": "markdown",
   "id": "65c89469-89fb-4b3a-9a40-b34372287882",
   "metadata": {},
   "source": [
    "\"the logic is similar to fibonacci_mod_sum.\""
   ]
  },
  {
   "cell_type": "markdown",
   "id": "881eb421-64fe-4a02-a579-aab1938e6c66",
   "metadata": {},
   "source": [
    "\"we find the period first. we can split the problem to two parts.\""
   ]
  },
  {
   "cell_type": "code",
   "execution_count": 85,
   "id": "8ec196ac-5800-41f8-bb96-5b8561529f3f",
   "metadata": {},
   "outputs": [],
   "source": [
    "def get_period_len(n, m):\n",
    "    a, b = 0, 1\n",
    "    count = 2\n",
    "    period_len = None\n",
    "    flag = False\n",
    "    \n",
    "    for i in range(n-1):\n",
    "        a, b = b, (a+b) % m\n",
    "        count += 1\n",
    "        if (a == 0) and (b == 1):\n",
    "            period_len = count - 2\n",
    "            flag = True\n",
    "            break\n",
    "    \n",
    "    if flag:\n",
    "        return period_len\n",
    "    else:\n",
    "        return -1"
   ]
  },
  {
   "cell_type": "markdown",
   "id": "c52ba053-b0b1-4ff5-b3eb-492c88fabd3c",
   "metadata": {},
   "source": [
    "\"for the start_sum part, we sum up the remainder from the start_ith to the end of the period. \n",
    "<br>\n",
    "for example, period_len = 8, that means the end of the period is F7. if start_ith = 3, we sum up the remainder from F3 to F7.\""
   ]
  },
  {
   "cell_type": "markdown",
   "id": "8d7034be-e108-4c37-96b1-bb36cbd71128",
   "metadata": {},
   "source": [
    "\"for the end_sum part, we sum up the remainder from the start of the period to the end_ith.\n",
    "<br>\n",
    "for example, if end_ith = 6, we sum up the remainder from F0 to F6.\n",
    "<br>\n",
    "finally, we sum these two part up.\""
   ]
  },
  {
   "cell_type": "markdown",
   "id": "bc748f5d-9245-4336-9243-ccd47c30d93f",
   "metadata": {},
   "source": [
    "\"if the start_ith = 0, that means it go through all the period. we know that the sum of the remainder of the full period is 0, so the start_sum = 0\n",
    "<br>\n",
    "if the start_it = 1, that means it go through all the perido except the F0. we know that the remainder of F0 is 0, exclude 0 does not affect the period remainder sum, so the start_sum = 0.\""
   ]
  },
  {
   "cell_type": "code",
   "execution_count": 86,
   "id": "d35a0b18-d7f3-42a0-95cc-20e6116067bf",
   "metadata": {},
   "outputs": [],
   "source": [
    "def from_to_sum_mod(period_len, start, end, m):\n",
    "    start_ith = start % period_len\n",
    "    end_ith = end % period_len\n",
    "    start_sum = 0\n",
    "    end_sum = 0\n",
    "    \n",
    "    if start_ith == 0 or start_ith == 1:\n",
    "        start_sum = 0\n",
    "    else:\n",
    "        a, b = 0, 1\n",
    "        for i in range(2, period_len):\n",
    "            a, b = b, (a+b) % m\n",
    "            if i >= start_ith:\n",
    "                start_sum += b\n",
    "                start_sum %= m\n",
    "    \n",
    "    if end_ith == 0:\n",
    "        end_sum = 0\n",
    "    elif end_ith == 1:\n",
    "        end_sum = 1\n",
    "    else:\n",
    "        a, b = 0, 1\n",
    "        end_sum = 1\n",
    "        for i in range(end_ith-1):\n",
    "            a, b = b, (a+b) % m\n",
    "            end_sum += b\n",
    "            end_sum %= m\n",
    "    \n",
    "    from_to_sum =  (start_sum + end_sum) % m\n",
    "        \n",
    "    return from_to_sum"
   ]
  },
  {
   "cell_type": "code",
   "execution_count": 91,
   "id": "5be830f3-7c47-432d-8511-e6f92fa53385",
   "metadata": {},
   "outputs": [],
   "source": [
    "def fibonacci_partial_mod_sum(start, end, m):\n",
    "    if start == 0 and end == 0:\n",
    "        return 0\n",
    "    elif start == 0 and end == 1:\n",
    "        return 1\n",
    "    elif start == 1 and end == 1:\n",
    "        return 1\n",
    "\n",
    "    period_len = get_period_len(end, m)\n",
    "    \n",
    "    if period_len == -1: # if there's no period or end<period, we need to brute force it\n",
    "        a, b = 0, 1 \n",
    "        if start <= 1:\n",
    "            ans = 1      # if start before F2, we set 1 beforehand. since the for loop only start from F2 \n",
    "        else:\n",
    "            ans = 0\n",
    "        for i in range(2, end+1):\n",
    "            a, b = b, (a+b) % m\n",
    "            if i >= start:\n",
    "                ans += b\n",
    "                ans %= m\n",
    "    else:            \n",
    "        ans = from_to_sum_mod(period_len, start, end, m)\n",
    "        \n",
    "    return ans"
   ]
  },
  {
   "cell_type": "code",
   "execution_count": 92,
   "id": "cf53126a-de88-4867-a0b2-aa5d8662abcd",
   "metadata": {},
   "outputs": [
    {
     "data": {
      "text/plain": [
       "2"
      ]
     },
     "execution_count": 92,
     "metadata": {},
     "output_type": "execute_result"
    }
   ],
   "source": [
    "fibonacci_partial_mod_sum(1, 2, 10)"
   ]
  }
 ],
 "metadata": {
  "kernelspec": {
   "display_name": "Python 3",
   "language": "python",
   "name": "python3"
  },
  "language_info": {
   "codemirror_mode": {
    "name": "ipython",
    "version": 3
   },
   "file_extension": ".py",
   "mimetype": "text/x-python",
   "name": "python",
   "nbconvert_exporter": "python",
   "pygments_lexer": "ipython3",
   "version": "3.9.0"
  }
 },
 "nbformat": 4,
 "nbformat_minor": 5
}
