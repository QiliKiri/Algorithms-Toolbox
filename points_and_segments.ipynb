{
 "cells": [
  {
   "cell_type": "markdown",
   "id": "79a8a889-93f5-4231-ad5d-10526a71ef5f",
   "metadata": {},
   "source": [
    "### Solution"
   ]
  },
  {
   "cell_type": "code",
   "execution_count": 26,
   "id": "9949eb22-2509-4e60-b754-e16ee931f477",
   "metadata": {},
   "outputs": [],
   "source": [
    "def count_segments(starts, ends, points):\n",
    "    starts = [(i, 'l') for i in starts]\n",
    "    ends = [(i, 'r') for i in ends]\n",
    "    points = [(i, 'p') for i in points]\n",
    "    \n",
    "    whole = starts + ends + points\n",
    "    whole = sorted(whole, key=lambda x: (x[0], x[1]))\n",
    "                    \n",
    "    points_count = {} \n",
    "    segments = 0\n",
    "    i = 0\n",
    "    for pair in whole:\n",
    "        if pair[1] == 'l':\n",
    "            segments += 1\n",
    "        elif pair[1] == 'r':\n",
    "            segments -= 1\n",
    "        elif pair[1] == 'p':\n",
    "            points_count[pair[0]] = segments\n",
    "            i += 1\n",
    "            \n",
    "    ans = [points_count[point[0]] for point in points]\n",
    "    \n",
    "    return ans\n",
    "                    "
   ]
  },
  {
   "cell_type": "markdown",
   "id": "ca870cf4-a8d3-4791-88e0-858e646dea30",
   "metadata": {},
   "source": [
    "### Sample test"
   ]
  },
  {
   "cell_type": "code",
   "execution_count": 27,
   "id": "716fd039-3694-403f-9602-9f6d6923402a",
   "metadata": {},
   "outputs": [
    {
     "data": {
      "text/plain": [
       "[1, 0, 0]"
      ]
     },
     "execution_count": 27,
     "metadata": {},
     "output_type": "execute_result"
    }
   ],
   "source": [
    "starts = [0, 7]\n",
    "ends = [5, 10]\n",
    "points = [1, 6, 11]\n",
    "count_segments(starts, ends, points)"
   ]
  },
  {
   "cell_type": "code",
   "execution_count": 28,
   "id": "4a8f0e19-372a-4351-8e03-0cd782e04c5c",
   "metadata": {},
   "outputs": [
    {
     "data": {
      "text/plain": [
       "[0, 0, 1]"
      ]
     },
     "execution_count": 28,
     "metadata": {},
     "output_type": "execute_result"
    }
   ],
   "source": [
    "starts = [-10]\n",
    "ends = [10]\n",
    "points = [-100, 100, 0]\n",
    "count_segments(starts, ends, points)"
   ]
  },
  {
   "cell_type": "code",
   "execution_count": 29,
   "id": "49263f34-8c02-42df-862c-0066be94ef45",
   "metadata": {},
   "outputs": [
    {
     "data": {
      "text/plain": [
       "[2, 0]"
      ]
     },
     "execution_count": 29,
     "metadata": {},
     "output_type": "execute_result"
    }
   ],
   "source": [
    "starts = [0, -3, 7]\n",
    "ends = [5, 2, 10]\n",
    "points = [1, 6]\n",
    "count_segments(starts, ends, points)"
   ]
  },
  {
   "cell_type": "code",
   "execution_count": 30,
   "id": "f894bf3d-52b8-4b9b-9649-b7fc4c9df5ac",
   "metadata": {},
   "outputs": [
    {
     "data": {
      "text/plain": [
       "[1, 2, 2, 2, 1]"
      ]
     },
     "execution_count": 30,
     "metadata": {},
     "output_type": "execute_result"
    }
   ],
   "source": [
    "starts = [2, 1, 4]\n",
    "ends = [5, 3, 7]\n",
    "points = [1, 2, 3, 4, 7]\n",
    "count_segments(starts, ends, points)"
   ]
  },
  {
   "cell_type": "code",
   "execution_count": 31,
   "id": "05788a9a-2e0a-4ffb-8067-51de13ecc328",
   "metadata": {},
   "outputs": [
    {
     "data": {
      "text/plain": [
       "[6]"
      ]
     },
     "execution_count": 31,
     "metadata": {},
     "output_type": "execute_result"
    }
   ],
   "source": [
    "starts = [10, 1, -5, 1, 4, 1, 2, 2, 4, -6, -6]\n",
    "ends = [1, 6, 1, 3, 8, 4, 3, 2, 7, 1, 3]\n",
    "points = [1]\n",
    "count_segments(starts, ends, points)"
   ]
  },
  {
   "cell_type": "code",
   "execution_count": 32,
   "id": "f9454a40-6ee0-452a-be2d-8e7eab668368",
   "metadata": {},
   "outputs": [
    {
     "data": {
      "text/plain": [
       "[2, 3, 4, 4]"
      ]
     },
     "execution_count": 32,
     "metadata": {},
     "output_type": "execute_result"
    }
   ],
   "source": [
    "starts = [4, 1, 2, 3, 4]\n",
    "ends = [4, 5, 5, 5, 5]\n",
    "points = [2, 3, 5, 5]\n",
    "count_segments(starts, ends, points)"
   ]
  }
 ],
 "metadata": {
  "kernelspec": {
   "display_name": "Python 3",
   "language": "python",
   "name": "python3"
  },
  "language_info": {
   "codemirror_mode": {
    "name": "ipython",
    "version": 3
   },
   "file_extension": ".py",
   "mimetype": "text/x-python",
   "name": "python",
   "nbconvert_exporter": "python",
   "pygments_lexer": "ipython3",
   "version": "3.9.0"
  }
 },
 "nbformat": 4,
 "nbformat_minor": 5
}
