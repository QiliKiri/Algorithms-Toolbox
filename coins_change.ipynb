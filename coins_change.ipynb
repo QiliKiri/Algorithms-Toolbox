{
 "cells": [
  {
   "cell_type": "markdown",
   "id": "48e76802-d8ff-424e-b35a-274aeafe7844",
   "metadata": {},
   "source": [
    "### Task. \n",
    "The goal in this problem is to find the minimum number of coins needed to change the input value\n",
    "(an integer) into coins with denominations 1, 5, and 10.\n",
    "### Input Format. \n",
    "The input consists of a single integer 𝑚.\n",
    "### Constraints.\n",
    "1 ≤ 𝑚 ≤ 103\n"
   ]
  },
  {
   "cell_type": "code",
   "execution_count": 26,
   "id": "1463ded4-30b2-4108-b75d-75699b693107",
   "metadata": {},
   "outputs": [],
   "source": [
    "def get_change(money):\n",
    "    coin_10 = 0\n",
    "    coin_5 = 0\n",
    "    coin_1 = 0\n",
    "    \n",
    "    # see how many coin_10 do we need\n",
    "    coin_10 = money // 10\n",
    "    \n",
    "    # since coin_10 deal with all money bigger than $10, only the amount less than 10 left\n",
    "    money = money % 10\n",
    "    # see how many coin_5 do we need\n",
    "    coin_5 = money // 5\n",
    "    \n",
    "    # sice coin_5 deal with all money bigger than $5, only the amount lees than 5 left\n",
    "    money = money % 5\n",
    "    # see how many coin_1 do wee need\n",
    "    coin_1 = money // 1\n",
    "    \n",
    "    # add up all the coins\n",
    "    all_coins = coin_10 + coin_5 + coin_1\n",
    "    \n",
    "    return coin_10, coin_5, coin_1, all_coins"
   ]
  },
  {
   "cell_type": "markdown",
   "id": "886f3c54-efb4-4440-b77a-96f4224fedfc",
   "metadata": {},
   "source": [
    "### Below is the testing function"
   ]
  },
  {
   "cell_type": "code",
   "execution_count": 27,
   "id": "e2a2b916-4dbd-42be-8e24-a76472c04525",
   "metadata": {},
   "outputs": [],
   "source": [
    "def stress_test(iteration):\n",
    "    import random\n",
    "    test_money = random.randint(1, 10**3)\n",
    "    coin_10, coin_5, coin_1, all_coins = get_change(test_money)\n",
    "    \n",
    "    # sum up the value of all different coins\n",
    "    coin_value = 10 * coin_10 + 5 * coin_5 + 1 * coin_1\n",
    "    \n",
    "    for i in range(iteration):\n",
    "        # check if coin value and test money equal\n",
    "        if coin_value == test_money:\n",
    "            print('OK')\n",
    "        else:\n",
    "            print('Wrong')\n",
    "            print(f'coin_10: {coin_10}')\n",
    "            print(f'coin_5: {coin_5}')\n",
    "            print(f'coin_1: {coin_1}')\n",
    "            print(f'coin value: {coin_value}')\n",
    "            print(f'money value: {test_money}')\n",
    "            break"
   ]
  },
  {
   "cell_type": "code",
   "execution_count": null,
   "id": "9fca95c4-fcd6-41ee-a6f8-af30e0b4bf40",
   "metadata": {},
   "outputs": [],
   "source": []
  }
 ],
 "metadata": {
  "kernelspec": {
   "display_name": "Python 3",
   "language": "python",
   "name": "python3"
  },
  "language_info": {
   "codemirror_mode": {
    "name": "ipython",
    "version": 3
   },
   "file_extension": ".py",
   "mimetype": "text/x-python",
   "name": "python",
   "nbconvert_exporter": "python",
   "pygments_lexer": "ipython3",
   "version": "3.9.0"
  }
 },
 "nbformat": 4,
 "nbformat_minor": 5
}
