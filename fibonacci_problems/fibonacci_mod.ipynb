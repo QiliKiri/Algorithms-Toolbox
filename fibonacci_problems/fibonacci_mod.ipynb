{
 "cells": [
  {
   "cell_type": "markdown",
   "id": "ab80ea1e-d860-48ef-b9de-35b518f13d64",
   "metadata": {},
   "source": [
    "This is true in general: for any integer 𝑚 ≥ 2, the sequence 𝐹𝑛 mod 𝑚 is periodic. The period always starts with 0 1 and is known as Pisano period."
   ]
  },
  {
   "cell_type": "code",
   "execution_count": 2,
   "id": "2f5b7f7e-bc9e-4925-a7fc-fd056a0d860c",
   "metadata": {},
   "outputs": [],
   "source": [
    "def get_period_len(n, m):\n",
    "    a, b = 0, 1\n",
    "    count = 2\n",
    "    period_len = None\n",
    "    flag = False\n",
    "    \n",
    "    for i in range(n-1):\n",
    "        a, b = b, (a+b) % m\n",
    "        count += 1\n",
    "        if (a == 0) and (b == 1):\n",
    "            period_len = count - 2\n",
    "            flag = True\n",
    "            break\n",
    "    \n",
    "    if flag:\n",
    "        return period_len\n",
    "    else:\n",
    "        return -1"
   ]
  },
  {
   "cell_type": "code",
   "execution_count": null,
   "id": "2cf210df-d949-4bcb-93ea-4452fbc4be3b",
   "metadata": {},
   "outputs": [],
   "source": [
    "def mod_upto_ith(n, period_len):\n",
    "    ith = n % period_len\n",
    "    if ith == 0:\n",
    "        return 0\n",
    "    elif ith == 1:\n",
    "        return 1\n",
    "    else:\n",
    "        a, b = 0, 1\n",
    "        for i in range(ith-1):\n",
    "            a, b = b, (a+b) % m"
   ]
  },
  {
   "cell_type": "code",
   "execution_count": 3,
   "id": "443a0868-0e17-46c5-8f77-ad7e4e4ef772",
   "metadata": {},
   "outputs": [],
   "source": [
    "def get_fibonacci_huge(n, m):\n",
    "    if n == 0:\n",
    "        return 0\n",
    "    elif n == 1:\n",
    "        return 1\n",
    "    else:\n",
    "        period_len = get_period_len(n, m)\n",
    "        if period_len == -1:\n",
    "            a, b = 0, 1\n",
    "            for i in range(n-1):\n",
    "                a, b = b, (a+b) % m\n",
    "            return b\n",
    "        \n",
    "        ans = mod_upto_ith(n, period_len)\n",
    "        \n",
    "        return ans"
   ]
  },
  {
   "cell_type": "code",
   "execution_count": 4,
   "id": "e22d29a2-e463-4538-abe5-1b4e550e118f",
   "metadata": {},
   "outputs": [
    {
     "data": {
      "text/plain": [
       "2"
      ]
     },
     "execution_count": 4,
     "metadata": {},
     "output_type": "execute_result"
    }
   ],
   "source": [
    "get_fibonacci_huge(3, 10)"
   ]
  }
 ],
 "metadata": {
  "kernelspec": {
   "display_name": "Python 3",
   "language": "python",
   "name": "python3"
  },
  "language_info": {
   "codemirror_mode": {
    "name": "ipython",
    "version": 3
   },
   "file_extension": ".py",
   "mimetype": "text/x-python",
   "name": "python",
   "nbconvert_exporter": "python",
   "pygments_lexer": "ipython3",
   "version": "3.9.0"
  }
 },
 "nbformat": 4,
 "nbformat_minor": 5
}
