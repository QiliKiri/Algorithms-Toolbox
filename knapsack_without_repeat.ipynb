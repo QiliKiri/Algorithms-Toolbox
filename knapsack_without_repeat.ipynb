{
 "cells": [
  {
   "cell_type": "code",
   "execution_count": 9,
   "id": "e1effd7d-5394-4a6f-aa78-33df48f43506",
   "metadata": {},
   "outputs": [],
   "source": [
    "import numpy as np\n",
    "def optimal_weight(W, golds):\n",
    "    m = len(golds)+1\n",
    "    n = W + 1\n",
    "    \n",
    "    dp = np.zeros((m, n))\n",
    "    \n",
    "    for i in range(1, m):\n",
    "        for j in range(1, n):\n",
    "            g_w = golds[i-1]\n",
    "            if g_w > j:\n",
    "                dp[i][j] = dp[i-1][j]   # if item is over the capacity, don't pick\n",
    "            else:\n",
    "                dp[i][j] = max( g_w + dp[i-1][j-g_w],  # pick\n",
    "                                dp[i-1][j])            # don't pick\n",
    "                \n",
    "    \n",
    "    return dp"
   ]
  },
  {
   "cell_type": "code",
   "execution_count": 10,
   "id": "bd30ec8f-0caf-4cd4-99c5-aa63f8d7d940",
   "metadata": {},
   "outputs": [
    {
     "data": {
      "text/plain": [
       "array([[0., 0., 0., 0., 0., 0., 0., 0., 0., 0., 0.],\n",
       "       [0., 1., 1., 1., 1., 1., 1., 1., 1., 1., 1.],\n",
       "       [0., 1., 1., 1., 4., 5., 5., 5., 5., 5., 5.],\n",
       "       [0., 1., 1., 1., 4., 5., 5., 5., 8., 9., 9.]])"
      ]
     },
     "execution_count": 10,
     "metadata": {},
     "output_type": "execute_result"
    }
   ],
   "source": [
    "optimal_weight(10, [1, 4, 8])"
   ]
  },
  {
   "cell_type": "code",
   "execution_count": null,
   "id": "10fdda9e-ee7b-406c-8d75-a85c433ba373",
   "metadata": {},
   "outputs": [],
   "source": []
  }
 ],
 "metadata": {
  "kernelspec": {
   "display_name": "Python 3",
   "language": "python",
   "name": "python3"
  },
  "language_info": {
   "codemirror_mode": {
    "name": "ipython",
    "version": 3
   },
   "file_extension": ".py",
   "mimetype": "text/x-python",
   "name": "python",
   "nbconvert_exporter": "python",
   "pygments_lexer": "ipython3",
   "version": "3.9.0"
  }
 },
 "nbformat": 4,
 "nbformat_minor": 5
}
