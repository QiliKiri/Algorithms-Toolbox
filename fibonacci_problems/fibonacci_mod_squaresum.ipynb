{
 "cells": [
  {
   "cell_type": "markdown",
   "id": "5297b65c-4d4a-441d-9b2f-6accd6fb79d6",
   "metadata": {},
   "source": [
    "### Question: find (F1 + F2 + ... + Fn)**2 % m"
   ]
  },
  {
   "cell_type": "markdown",
   "id": "501e401b-5cca-413b-8eb3-3824014e8420",
   "metadata": {},
   "source": [
    "\"logic is the same as fibonacci_mod_sum, since the mod of the square sum of remainder within a period is zero, we can ignore the full periods and only calculate the remaining.\n",
    "<br>\n",
    "you can use the period_squaresum_mod function to verify that the mod of the square sum of the remainder is 0.\" ----me"
   ]
  },
  {
   "cell_type": "markdown",
   "id": "c3fd3199-c272-479a-9435-21257a060bfe",
   "metadata": {},
   "source": [
    "m >= 2"
   ]
  },
  {
   "cell_type": "code",
   "execution_count": 21,
   "id": "c82a87ad-fc73-450b-bfe8-fd799cfbb707",
   "metadata": {},
   "outputs": [],
   "source": [
    "def period_squaresum_mod(period_len, m):\n",
    "    a, b = 0, 1\n",
    "    sum = 1\n",
    "    \n",
    "    for i in range(period_len-2): # i.e. period_len = 8, we need to generate first 8 number. since first 2 are defined, only need to generate 8-2=6 numbers.\n",
    "        a, b = b, (a+b) % m       \n",
    "        sum += b      **2            \n",
    "        sum %= m                  \n",
    "        \n",
    "    return sum"
   ]
  },
  {
   "cell_type": "code",
   "execution_count": 14,
   "id": "490aee83-b51c-4ac3-bdf2-f7aa77e0dd8d",
   "metadata": {},
   "outputs": [],
   "source": [
    "def get_period_len(n, m):\n",
    "    a, b = 0, 1\n",
    "    count = 2\n",
    "    period_len = None\n",
    "    flag = False\n",
    "    \n",
    "    for i in range(n-1):\n",
    "        a, b = b, (a+b) % m\n",
    "        count += 1\n",
    "        if (a == 0) and (b == 1):\n",
    "            period_len = count - 2\n",
    "            flag = True\n",
    "            break\n",
    "    \n",
    "    if flag:\n",
    "        return period_len\n",
    "    else:\n",
    "        return -1"
   ]
  },
  {
   "cell_type": "code",
   "execution_count": 15,
   "id": "8c376722-285b-4226-ba3c-7d3b28e8a0fa",
   "metadata": {},
   "outputs": [],
   "source": [
    "def upto_ith_squaresum_mod(period_len, n, m):\n",
    "    ith = n % period_len\n",
    "    if ith == 0:\n",
    "        return 0\n",
    "    elif ith == 1:\n",
    "        return 1\n",
    "    else:\n",
    "        a, b = 0, 1\n",
    "        sum = 1\n",
    "        for i in range(ith-1):  # to achieve ith Fib, we need ith+1 numbers. since first 2 is defined, so we only generate ith-1 numbers.\n",
    "            a, b = b, (a+b) % m \n",
    "            sum += b**2\n",
    "            sum %= m\n",
    "            \n",
    "    return sum"
   ]
  },
  {
   "cell_type": "code",
   "execution_count": 18,
   "id": "832dbb30-6a20-4076-9175-044f2ee257c6",
   "metadata": {},
   "outputs": [],
   "source": [
    "def fibonacci_mod_squaresum(n, m):\n",
    "    if n == 0:\n",
    "        return 0\n",
    "    elif n == 1:\n",
    "        return 1\n",
    "    \n",
    "    period_len = get_period_len(n, m)\n",
    "    if period_len == -1:\n",
    "        a, b = 0, 1\n",
    "        sum = 1\n",
    "        for i in range(n-1):\n",
    "            a, b = b, (a+b) % m\n",
    "            sum += b**2\n",
    "            sum %= m\n",
    "        return sum\n",
    "    else:\n",
    "        sum = upto_ith_squaresum_mod(period_len, n, m)\n",
    "        \n",
    "        return sum      "
   ]
  },
  {
   "cell_type": "code",
   "execution_count": 20,
   "id": "3b889249-5177-489b-9bbf-a95228d79b04",
   "metadata": {},
   "outputs": [
    {
     "data": {
      "text/plain": [
       "0"
      ]
     },
     "execution_count": 20,
     "metadata": {},
     "output_type": "execute_result"
    }
   ],
   "source": [
    "fibonacci_mod_squaresum(1234567890, 10)"
   ]
  }
 ],
 "metadata": {
  "kernelspec": {
   "display_name": "Python 3",
   "language": "python",
   "name": "python3"
  },
  "language_info": {
   "codemirror_mode": {
    "name": "ipython",
    "version": 3
   },
   "file_extension": ".py",
   "mimetype": "text/x-python",
   "name": "python",
   "nbconvert_exporter": "python",
   "pygments_lexer": "ipython3",
   "version": "3.9.0"
  }
 },
 "nbformat": 4,
 "nbformat_minor": 5
}
