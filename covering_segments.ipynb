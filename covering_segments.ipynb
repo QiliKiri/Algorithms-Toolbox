{
 "cells": [
  {
   "cell_type": "markdown",
   "id": "46de44b3-90b9-4091-b40a-513bd5de1cc3",
   "metadata": {},
   "source": [
    "#### Task. \n",
    "Given a set of 𝑛 segments {[𝑎0, 𝑏0], [𝑎1, 𝑏1], . . . , [𝑎𝑛−1, 𝑏𝑛−1]} with integer coordinates on a line, find the minimum number 𝑚 of points such that each segment contains at least one point. That is, find a set of integers 𝑋 of the minimum size such that for any segment [𝑎𝑖, 𝑏𝑖] there is a point 𝑥 ∈ 𝑋 such that 𝑎𝑖 ≤ 𝑥 ≤ 𝑏𝑖.\n",
    "#### Input Format. \n",
    "The first line of the input contains the number 𝑛 of segments. Each of the following 𝑛 lines contains two integers 𝑎𝑖 and 𝑏𝑖 (separated by a space) defining the coordinates of endpoints of the 𝑖-th segment.\n",
    "#### Constraints. 1 ≤ 𝑛 ≤ 100; 0 ≤ 𝑎𝑖 ≤ 𝑏𝑖 ≤ 109 for all 0 ≤ 𝑖 < 𝑛.\n",
    "#### Output Format. \n",
    "Output the minimum number 𝑚 of points on the first line and the integer coordinates\n",
    "of 𝑚 points (separated by spaces) on the second line. You can output the points in any order. If there\n",
    "are many such sets of points, you can output any set. (It is not difficult to see that there always exist\n",
    "a set of points of the minimum size such that all the coordinates of the points are integers.)\n"
   ]
  },
  {
   "cell_type": "markdown",
   "id": "1409a6d1-9609-4dc2-b447-224c9211b062",
   "metadata": {},
   "source": [
    "### My solution:\n",
    "\" The logic to solve this problem is simple.\"\n",
    "* We interpret a pair of points as a horizontal line, the first point is the left end point, the second point is the right end point. \n",
    "* Then we order those lines by their right end point. (low to high)\n",
    "* Next, we select the right end point of the first line, draw a vertical line on it, record this point as touch point.\n",
    "* Remove all the horizontal lines which are touched by the vertical line. To identify these lines is easy, because all lines are ordered by right end point, if the touch point is bigger than their left end point, then they must be touched by the vertical line. (you can draw on paper to verify)\n",
    "* From the rest of the lines, find the first line, draw a vertical line on its right end point, record this point as touch point, remove the touched horizontal lines.\n",
    "* Repeat the find first line, draw vertical line, remove horizontal lines process, untill there's no line left.\n",
    "* Eventually, all the touch points are the solution."
   ]
  },
  {
   "cell_type": "code",
   "execution_count": 148,
   "id": "fe47fc6e-4ad6-44aa-a6b8-59c4faf3d7f7",
   "metadata": {},
   "outputs": [],
   "source": [
    "def line_remove(point, lines):\n",
    "    i = 0\n",
    "    while True:\n",
    "        try:\n",
    "            if point >= lines[i][0]:\n",
    "                lines.remove(lines[i])\n",
    "                i -= 1\n",
    "            i += 1\n",
    "        except:\n",
    "            break\n",
    "            \n",
    "    return lines"
   ]
  },
  {
   "cell_type": "code",
   "execution_count": 151,
   "id": "b52a2505-047c-4063-abe6-b0234270aeb1",
   "metadata": {},
   "outputs": [],
   "source": [
    "def optimal_points(lines):\n",
    "    lines = sorted(lines, key=lambda tup: tup[1])\n",
    "    touch_points = []\n",
    "    \n",
    "    while True:\n",
    "        current_point = lines[0][1]\n",
    "        touch_points.append(current_point)\n",
    "        lines = line_remove(current_point, lines)\n",
    "        if lines == []:\n",
    "            break\n",
    "\n",
    "    return touch_points"
   ]
  },
  {
   "cell_type": "code",
   "execution_count": 152,
   "id": "21ca883c-8a9b-4472-ba2a-9ff0507f1dc9",
   "metadata": {},
   "outputs": [],
   "source": [
    "def main():\n",
    "    n, *raw_data = map(int, input().split())\n",
    "    data = list(map(lambda x: (x[0], x[1]), zip(raw_data[::2], raw_data[1::2])))\n",
    "    points = optimal_points(data)\n",
    "    print(len(points))\n",
    "    print(*points)"
   ]
  },
  {
   "cell_type": "code",
   "execution_count": 154,
   "id": "9a2ab51b-dbd3-456d-830e-c960a92a9834",
   "metadata": {},
   "outputs": [
    {
     "name": "stdin",
     "output_type": "stream",
     "text": [
      " 4 4 7 1 3 2 5 5 6\n"
     ]
    },
    {
     "name": "stdout",
     "output_type": "stream",
     "text": [
      "2\n",
      "3 6\n"
     ]
    }
   ],
   "source": [
    "main()"
   ]
  },
  {
   "cell_type": "markdown",
   "id": "cc55e088-96ee-4e54-96c1-7f7de2b18961",
   "metadata": {},
   "source": [
    " 3 1 3 2 5 3 6"
   ]
  },
  {
   "cell_type": "code",
   "execution_count": null,
   "id": "b4e0166a-5cbc-4077-975a-3bdc30446e09",
   "metadata": {},
   "outputs": [],
   "source": []
  }
 ],
 "metadata": {
  "kernelspec": {
   "display_name": "Python 3",
   "language": "python",
   "name": "python3"
  },
  "language_info": {
   "codemirror_mode": {
    "name": "ipython",
    "version": 3
   },
   "file_extension": ".py",
   "mimetype": "text/x-python",
   "name": "python",
   "nbconvert_exporter": "python",
   "pygments_lexer": "ipython3",
   "version": "3.9.0"
  }
 },
 "nbformat": 4,
 "nbformat_minor": 5
}
