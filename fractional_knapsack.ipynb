{
 "cells": [
  {
   "cell_type": "markdown",
   "id": "1f3c739b-fd5c-4de0-8ad0-9b1c6992da17",
   "metadata": {},
   "source": [
    "#### Task. \n",
    "The goal of this code problem is to implement an algorithm for the fractional knapsack problem.\n",
    "#### Input Format. \n",
    "\"Input the capacity of knapsack, the weight of each items in a list, the values of each items in a list.\"\n",
    "#### Output Format. \n",
    "Output the maximal value of fractions of items that fit into the knapsack.\n",
    "#### Constraints. \n",
    "for all 1 ≤ 𝑖 ≤ 𝑛. All the numbers are integers.\n",
    "* 1 ≤ 𝑛 ≤ 103\n",
    "* 0 ≤ 𝑊 ≤ 2 · 106\n",
    "* 0 ≤ 𝑣𝑖 ≤ 2 · 106\n",
    "* 0 < 𝑤𝑖 ≤ 2 · 106"
   ]
  },
  {
   "cell_type": "code",
   "execution_count": 181,
   "id": "d9d5394e-3f0d-439f-bcf2-cad760b7e9c8",
   "metadata": {},
   "outputs": [],
   "source": [
    "def rank_high_low(lst):\n",
    "    # high to low\n",
    "    sorted_list = sorted(lst, reverse=True)\n",
    "\n",
    "    # get rank list, see explaination below\n",
    "    rank_list = []\n",
    "    for num in sorted_list:\n",
    "        index = lst.index(num)\n",
    "        rank_list.append(index)\n",
    "        lst[index] = None\n",
    "\n",
    "    return rank_list"
   ]
  },
  {
   "cell_type": "markdown",
   "id": "89541025-b26e-4824-b1c0-f6d749a05199",
   "metadata": {},
   "source": [
    "\"rank_list is a list contains the original_list's index.\n",
    "<br>\n",
    "the first element of rank_list = the index of the biggest element of original_list\n",
    "<br>\n",
    "the second element of rank_list = the index of the second biggest element of original_list ....\""
   ]
  },
  {
   "cell_type": "markdown",
   "id": "5aa677b3-e97e-4265-bf98-693a1744c63b",
   "metadata": {},
   "source": [
    "\"since the list.index() return the first element's index it finds, so if sorted_list contains duplicated elements, list.index() will return the first founded element of thoes duplicated elements.\"\n",
    "<br>\n",
    "ie. the rank of [3, 3, 2, 1] is [0, 0, 2, 3]"
   ]
  },
  {
   "cell_type": "markdown",
   "id": "08c8012c-2ef6-4640-99ee-366f18a93c22",
   "metadata": {},
   "source": [
    "\"let's solve this problem!\n",
    "<br>\n",
    "each time after we find the index of one element in the original list base on sorted list, we set this element to None in the original list, such that we will not get its index again.\""
   ]
  },
  {
   "cell_type": "markdown",
   "id": "3383d4e8-6fa7-4c6c-8351-89073de1e448",
   "metadata": {},
   "source": [
    "for example\n",
    "* list = [3, 3, 1, 2], sorted_list = [3, 3, 2, 1]\n",
    "* first element in sorted_list is 3\n",
    "* list.index(3) is 0, store it to rank list\n",
    "* next, we set list[0] = None\n",
    "* list becomes [None, 3, 1, 2]\n",
    "* second element in sorted_list is 3 again\n",
    "* list.index(3) is 1 now, store it to rank list\n",
    "* eventually, rank list = [0, 1, 3, 2]\n",
    "* for some duplicated elements, the earlyer found one has smaller index (higher rank)"
   ]
  },
  {
   "cell_type": "code",
   "execution_count": 182,
   "id": "5ad3be3a-23aa-4708-bf80-b0b8863eb6f4",
   "metadata": {},
   "outputs": [],
   "source": [
    "def get_optimal_value(capacity, items_weights, items_values):\n",
    "    \n",
    "    # get the vaules per weights for each item\n",
    "    val_per_wei = []\n",
    "    for weights, values in zip(items_weights, items_values):\n",
    "        val_per_wei.append(values/weights)\n",
    "        \n",
    "    # rank the val_per_weight from biggest to smallest, biggest has rank 0, second biggest has rank 1...\n",
    "    rank_list = rank_high_low(val_per_wei)\n",
    "    \n",
    "    # set starting condition\n",
    "    values = 0\n",
    "    capacity_left = capacity\n",
    "    \n",
    "    # set list to store index and the fraction of weight we actually gotten it to our knapsack \n",
    "    # for each item in our knapsack.\n",
    "    item_list = []\n",
    "    weight_list = []\n",
    "    \n",
    "    # get item from highest rank to lowest rank\n",
    "    for rank in rank_list:\n",
    "        if capacity_left <= 0:  # if the capacity full, stop getting items\n",
    "            break\n",
    "        else:\n",
    "            item_wei = items_weights[rank]\n",
    "            item_val = items_values[rank]\n",
    "            \n",
    "            if (capacity_left > 0 )and (capacity_left >= item_wei): \n",
    "                # if capacity allows, get the whole item\n",
    "                capacity_left -= item_wei\n",
    "                values += item_val\n",
    "                \n",
    "                item_list.append(rank)\n",
    "                weight_list.append(1)\n",
    "            elif (capacity_left > 0) and (capacity_left < item_wei): \n",
    "                # if can't get whole but still has room, get part of the item\n",
    "                fraction = capacity_left / item_wei\n",
    "                capacity_left -= fraction * item_wei\n",
    "                values += fraction * item_val\n",
    "                \n",
    "                item_list.append(rank)\n",
    "                weight_list.append(fraction)\n",
    "                \n",
    "                \n",
    "    return round(values, 4), item_list, weight_list"
   ]
  },
  {
   "cell_type": "markdown",
   "id": "48330599-d088-475b-ad00-b0e1cd47433c",
   "metadata": {},
   "source": [
    "#### Example\n",
    "* capacity = 50\n",
    "* weights = [20, 50, 30]\n",
    "* values = [60, 100, 120]"
   ]
  },
  {
   "cell_type": "code",
   "execution_count": 183,
   "id": "e07f6e70-b1d5-4bed-8364-e0ad6bdb60af",
   "metadata": {},
   "outputs": [
    {
     "data": {
      "text/plain": [
       "(180, [2, 0], [1, 1])"
      ]
     },
     "execution_count": 183,
     "metadata": {},
     "output_type": "execute_result"
    }
   ],
   "source": [
    "get_optimal_value(50, [20, 50, 30], [60, 100, 120])"
   ]
  },
  {
   "cell_type": "code",
   "execution_count": 184,
   "id": "a56abcf4-a332-4444-be23-7677928888ff",
   "metadata": {},
   "outputs": [],
   "source": [
    "capacity = 9022\n",
    "values = [3316, 3336, 5375, 2852, 1717]\n",
    "weights = [1601, 9926, 894, 6912, 8427]"
   ]
  },
  {
   "cell_type": "code",
   "execution_count": 180,
   "id": "86997d2e-f21a-4172-99b1-e52a49de4d41",
   "metadata": {},
   "outputs": [
    {
     "data": {
      "text/plain": [
       "(11384.1429, [2, 0, 3], [1, 1, 0.9442997685185185])"
      ]
     },
     "execution_count": 180,
     "metadata": {},
     "output_type": "execute_result"
    }
   ],
   "source": [
    "get_optimal_value(capacity, weights, values)"
   ]
  },
  {
   "cell_type": "code",
   "execution_count": null,
   "id": "e816bf73-86a4-42da-ad3b-e08ad4a2b7ba",
   "metadata": {},
   "outputs": [],
   "source": []
  }
 ],
 "metadata": {
  "kernelspec": {
   "display_name": "Python 3",
   "language": "python",
   "name": "python3"
  },
  "language_info": {
   "codemirror_mode": {
    "name": "ipython",
    "version": 3
   },
   "file_extension": ".py",
   "mimetype": "text/x-python",
   "name": "python",
   "nbconvert_exporter": "python",
   "pygments_lexer": "ipython3",
   "version": "3.9.0"
  }
 },
 "nbformat": 4,
 "nbformat_minor": 5
}
