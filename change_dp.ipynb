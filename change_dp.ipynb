{
 "cells": [
  {
   "cell_type": "code",
   "execution_count": 24,
   "id": "acadb78a-9a79-407c-8050-12f9790c2add",
   "metadata": {},
   "outputs": [],
   "source": [
    "import numpy as np\n",
    "def get_change(amount, coins, coin_types):\n",
    "    dp = np.zeros((coin_types+1, amount+1))\n",
    "    \n",
    "    for i in range(coin_types+1):\n",
    "        for j in range(amount+1):\n",
    "            if (i==0) and (j==0):\n",
    "                dp[i][j] = 0\n",
    "            elif (i == 0):\n",
    "                dp[i][j] = None\n",
    "            elif (j == 0):\n",
    "                dp[i][j] = 0\n",
    "            else:\n",
    "                if dp[i-1][j] is None:\n",
    "                    dp[i][j] = (1 + dp[i][j-coins[i-1]])\n",
    "                elif coins[i-1] > j:\n",
    "                    dp[i][j] = dp[i-1][j]\n",
    "                else:\n",
    "                    dp[i][j] = min(1 + dp[i][j-coins[i-1]], dp[i-1][j])\n",
    "                \n",
    "    return dp, dp[-1][-1]"
   ]
  },
  {
   "cell_type": "code",
   "execution_count": 29,
   "id": "56d2355a-6515-47ff-bba3-1466ab29b56c",
   "metadata": {},
   "outputs": [
    {
     "data": {
      "text/plain": [
       "9.0"
      ]
     },
     "execution_count": 29,
     "metadata": {},
     "output_type": "execute_result"
    }
   ],
   "source": [
    "amount = 34\n",
    "coins = [1, 3, 4]\n",
    "coin_types = 3\n",
    "\n",
    "array, num_coins = get_change(amount, coins, coin_types)\n",
    "num_coins"
   ]
  },
  {
   "cell_type": "code",
   "execution_count": 4,
   "id": "c0dc45bb-2ca9-44a2-89d1-1a5d466ceb91",
   "metadata": {},
   "outputs": [
    {
     "data": {
      "text/plain": [
       "array([[2, 1],\n",
       "       [3, 4]])"
      ]
     },
     "execution_count": 4,
     "metadata": {},
     "output_type": "execute_result"
    }
   ],
   "source": [
    "a = np.array([[2, 1], [3, 4]])\n",
    "a"
   ]
  },
  {
   "cell_type": "code",
   "execution_count": 5,
   "id": "0bed37da-7fb4-439b-b4bb-7d8daf6501d8",
   "metadata": {},
   "outputs": [
    {
     "data": {
      "text/plain": [
       "2"
      ]
     },
     "execution_count": 5,
     "metadata": {},
     "output_type": "execute_result"
    }
   ],
   "source": [
    "a[0][0]"
   ]
  },
  {
   "cell_type": "code",
   "execution_count": 18,
   "id": "a786e904-bad8-4180-bb3b-73befd959bce",
   "metadata": {},
   "outputs": [
    {
     "data": {
      "text/plain": [
       "True"
      ]
     },
     "execution_count": 18,
     "metadata": {},
     "output_type": "execute_result"
    }
   ],
   "source": [
    "b = None\n",
    "b == None"
   ]
  },
  {
   "cell_type": "code",
   "execution_count": null,
   "id": "32128547-592f-45cf-b7d7-c046f0a68336",
   "metadata": {},
   "outputs": [],
   "source": []
  }
 ],
 "metadata": {
  "kernelspec": {
   "display_name": "Python 3",
   "language": "python",
   "name": "python3"
  },
  "language_info": {
   "codemirror_mode": {
    "name": "ipython",
    "version": 3
   },
   "file_extension": ".py",
   "mimetype": "text/x-python",
   "name": "python",
   "nbconvert_exporter": "python",
   "pygments_lexer": "ipython3",
   "version": "3.9.0"
  }
 },
 "nbformat": 4,
 "nbformat_minor": 5
}
