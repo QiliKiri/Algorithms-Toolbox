{
 "cells": [
  {
   "cell_type": "code",
   "execution_count": 8,
   "id": "ec69674a-ff66-4513-bca9-a7e8732f2014",
   "metadata": {},
   "outputs": [],
   "source": [
    "def majority_element(lst):\n",
    "    num_occur = {}\n",
    "    n = len(lst)\n",
    "    \n",
    "    for num in lst:\n",
    "        if num in num_occur:\n",
    "            num_occur[num] += 1\n",
    "        else:\n",
    "            num_occur[num] = 1\n",
    "    \n",
    "    for key in num_occur:\n",
    "        if num_occur[key] > n/2:\n",
    "            return 1\n",
    "    \n",
    "    return 0"
   ]
  },
  {
   "cell_type": "code",
   "execution_count": 13,
   "id": "fc02c2aa-f470-4fa9-b64f-a7910b0bea47",
   "metadata": {},
   "outputs": [],
   "source": [
    "lst = [1, 2, 3, 1]"
   ]
  },
  {
   "cell_type": "code",
   "execution_count": 14,
   "id": "3274326c-a5ec-4087-8df0-6d1448ead29c",
   "metadata": {},
   "outputs": [
    {
     "data": {
      "text/plain": [
       "0"
      ]
     },
     "execution_count": 14,
     "metadata": {},
     "output_type": "execute_result"
    }
   ],
   "source": [
    "majority_element(lst)"
   ]
  },
  {
   "cell_type": "code",
   "execution_count": null,
   "id": "26b6d545-9ee0-410c-b0ed-8b1a82b07f00",
   "metadata": {},
   "outputs": [],
   "source": []
  }
 ],
 "metadata": {
  "kernelspec": {
   "display_name": "Python 3",
   "language": "python",
   "name": "python3"
  },
  "language_info": {
   "codemirror_mode": {
    "name": "ipython",
    "version": 3
   },
   "file_extension": ".py",
   "mimetype": "text/x-python",
   "name": "python",
   "nbconvert_exporter": "python",
   "pygments_lexer": "ipython3",
   "version": "3.9.0"
  }
 },
 "nbformat": 4,
 "nbformat_minor": 5
}
