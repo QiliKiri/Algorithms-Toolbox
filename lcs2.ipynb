{
 "cells": [
  {
   "cell_type": "code",
   "execution_count": 36,
   "id": "21670792-c99f-4cd5-aee2-6b19b624d2e1",
   "metadata": {},
   "outputs": [],
   "source": [
    "import numpy as np\n",
    "def lcs2(a, b):\n",
    "    m = len(a) + 1\n",
    "    n = len(b) + 1\n",
    "    \n",
    "    dp = np.zeros((m, n))\n",
    "    \n",
    "    for i in range(m):\n",
    "        for j in range(n):\n",
    "            if i == 0:\n",
    "                dp[i][j] = j\n",
    "            elif j == 0:\n",
    "                dp[i][j] = i\n",
    "            elif a[i-1] == b[j-1]:\n",
    "                dp[i][j] = dp[i-1][j-1]\n",
    "            else:\n",
    "                dp[i][j] = min( 1 + dp[i][j-1],  # insert\n",
    "                                1 + dp[i-1][j],) # remove\n",
    "                \n",
    "    common_sequence = []\n",
    "    while (len(a) > 0) and (len(b) > 0):\n",
    "        if a[-1] == b[-1]:\n",
    "            common_sequence.append(a[-1])\n",
    "            a.pop()\n",
    "            b.pop()\n",
    "            i -= 1\n",
    "            j -= 1\n",
    "        elif dp[i][j]-1 == dp[i-1][j]: # remove\n",
    "            a.pop()\n",
    "            i -= 1\n",
    "        elif dp[i][j]-1 == dp[i][j-1]: # insert\n",
    "            b.pop()\n",
    "            j -= 1\n",
    "    return dp, common_sequence"
   ]
  },
  {
   "cell_type": "code",
   "execution_count": 37,
   "id": "fd244a1c-c70a-46f8-889e-4190521f45ac",
   "metadata": {},
   "outputs": [
    {
     "data": {
      "text/plain": [
       "(array([[0., 1., 2., 3., 4.],\n",
       "        [1., 2., 1., 2., 3.],\n",
       "        [2., 3., 2., 3., 2.],\n",
       "        [3., 4., 3., 2., 3.],\n",
       "        [4., 5., 4., 3., 4.]]),\n",
       " [7, 2])"
      ]
     },
     "execution_count": 37,
     "metadata": {},
     "output_type": "execute_result"
    }
   ],
   "source": [
    "lcs2([2, 7, 8, 3], [5, 2, 8, 7])"
   ]
  },
  {
   "cell_type": "code",
   "execution_count": 39,
   "id": "b232cf45-644c-4bcf-8f35-d4c9cbadfddb",
   "metadata": {},
   "outputs": [
    {
     "data": {
      "text/plain": [
       "(array([[0., 1., 2., 3., 4.],\n",
       "        [1., 2., 3., 4., 5.]]),\n",
       " [])"
      ]
     },
     "execution_count": 39,
     "metadata": {},
     "output_type": "execute_result"
    }
   ],
   "source": [
    "lcs2([7], [1, 2, 3, 4])"
   ]
  },
  {
   "cell_type": "code",
   "execution_count": 41,
   "id": "35600dea-af9f-4ef3-99d8-e570129cd522",
   "metadata": {},
   "outputs": [
    {
     "data": {
      "text/plain": [
       "(array([[0., 1., 2.],\n",
       "        [1., 0., 1.],\n",
       "        [2., 1., 2.],\n",
       "        [3., 2., 1.]]),\n",
       " [5, 2])"
      ]
     },
     "execution_count": 41,
     "metadata": {},
     "output_type": "execute_result"
    }
   ],
   "source": [
    "lcs2([2, 7, 5], [2, 5])"
   ]
  },
  {
   "cell_type": "code",
   "execution_count": null,
   "id": "fdb6ba51-b170-435b-9b09-6c978480c43c",
   "metadata": {},
   "outputs": [],
   "source": []
  }
 ],
 "metadata": {
  "kernelspec": {
   "display_name": "Python 3",
   "language": "python",
   "name": "python3"
  },
  "language_info": {
   "codemirror_mode": {
    "name": "ipython",
    "version": 3
   },
   "file_extension": ".py",
   "mimetype": "text/x-python",
   "name": "python",
   "nbconvert_exporter": "python",
   "pygments_lexer": "ipython3",
   "version": "3.9.0"
  }
 },
 "nbformat": 4,
 "nbformat_minor": 5
}
