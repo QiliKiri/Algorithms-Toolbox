{
 "cells": [
  {
   "cell_type": "markdown",
   "id": "f2d95ff2-9983-40d9-bb07-d8c95c44231d",
   "metadata": {},
   "source": [
    "#### Task.\n",
    "Given two sequences 𝑎1, 𝑎2, . . . ,ai and 𝑏1, 𝑏2, . . . ,bi. we need to partition them into 𝑛 pairs (𝑎𝑖\n",
    ", 𝑏𝑗 )\n",
    "such that the sum of their products is maximized.\n",
    "#### Input.\n",
    "a = [a1, a2, ..., ai],  b = [b1, b2, ..., bi]\n",
    "#### Constraints. \n",
    "* 1 ≤ 𝑛 ≤ 103\n",
    "* −105 ≤ 𝑎𝑖 𝑏𝑖 ≤ 105\n",
    "<br>\n",
    "for all 1 ≤ 𝑖 ≤ 𝑛."
   ]
  },
  {
   "cell_type": "code",
   "execution_count": 1,
   "id": "81a77ece-aea0-44f8-b8fb-a22d4bad50a3",
   "metadata": {},
   "outputs": [],
   "source": [
    "def max_dot_product(a, b):\n",
    "    a.sort()\n",
    "    b.sort()\n",
    "    max_val = 0\n",
    "    for i in range(len(a)):\n",
    "        max_val += a[i] * b[i]\n",
    "        \n",
    "    return max_val"
   ]
  },
  {
   "cell_type": "code",
   "execution_count": 2,
   "id": "672db675-5ace-4935-9ec7-e2f0a18ac5d3",
   "metadata": {},
   "outputs": [
    {
     "data": {
      "text/plain": [
       "23"
      ]
     },
     "execution_count": 2,
     "metadata": {},
     "output_type": "execute_result"
    }
   ],
   "source": [
    "max_dot_product([1, 3, -5],[-2, 4, 1])"
   ]
  }
 ],
 "metadata": {
  "kernelspec": {
   "display_name": "Python 3",
   "language": "python",
   "name": "python3"
  },
  "language_info": {
   "codemirror_mode": {
    "name": "ipython",
    "version": 3
   },
   "file_extension": ".py",
   "mimetype": "text/x-python",
   "name": "python",
   "nbconvert_exporter": "python",
   "pygments_lexer": "ipython3",
   "version": "3.9.0"
  }
 },
 "nbformat": 4,
 "nbformat_minor": 5
}
