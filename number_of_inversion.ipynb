{
 "cells": [
  {
   "cell_type": "code",
   "execution_count": 25,
   "id": "0fcdb76f-4b0c-49f4-b4df-42ad0a363531",
   "metadata": {},
   "outputs": [],
   "source": [
    "def get_number_of_inversions(a):\n",
    "    if len(a) > 1:\n",
    "        mid = len(a) // 2\n",
    "        left = a[:mid]\n",
    "        right = a[mid:]\n",
    "        \n",
    "        inversion = 0\n",
    "        inversion += get_number_of_inversions(left)\n",
    "        inversion += get_number_of_inversions(right)\n",
    "        \n",
    "        l_i = r_i = 0\n",
    "        m_i = 0\n",
    "        \n",
    "        while l_i < len(left) and r_i < len(right):\n",
    "            if left[l_i] <= right[r_i]:\n",
    "                a[m_i] = left[l_i]\n",
    "                l_i += 1\n",
    "                m_i += 1\n",
    "            elif left[l_i] > right[r_i]:\n",
    "                a[m_i] = right[r_i]\n",
    "                r_i += 1\n",
    "                m_i += 1\n",
    "                inversion += len(left[l_i:])\n",
    "                \n",
    "        while l_i < len(left):\n",
    "            a[m_i] = left[l_i]\n",
    "            l_i += 1\n",
    "            m_i += 1\n",
    "        \n",
    "        while r_i < len(right):\n",
    "            a[m_i] = right[r_i]\n",
    "            r_i += 1\n",
    "            m_i += 1\n",
    "            \n",
    "        return inversion\n",
    "    return 0"
   ]
  },
  {
   "cell_type": "code",
   "execution_count": 26,
   "id": "be34d9cc-0afc-4dd7-9c6a-bc00c9f712f6",
   "metadata": {},
   "outputs": [],
   "source": [
    "a = [9, 8, 7, 3, 2, 1]"
   ]
  },
  {
   "cell_type": "code",
   "execution_count": 27,
   "id": "0f255018-11c1-4687-a810-6412e71c7400",
   "metadata": {},
   "outputs": [
    {
     "data": {
      "text/plain": [
       "15"
      ]
     },
     "execution_count": 27,
     "metadata": {},
     "output_type": "execute_result"
    }
   ],
   "source": [
    "get_number_of_inversions(a)"
   ]
  },
  {
   "cell_type": "code",
   "execution_count": null,
   "id": "868bbbc2-155f-4911-8812-d1890945abe6",
   "metadata": {},
   "outputs": [],
   "source": []
  }
 ],
 "metadata": {
  "kernelspec": {
   "display_name": "Python 3",
   "language": "python",
   "name": "python3"
  },
  "language_info": {
   "codemirror_mode": {
    "name": "ipython",
    "version": 3
   },
   "file_extension": ".py",
   "mimetype": "text/x-python",
   "name": "python",
   "nbconvert_exporter": "python",
   "pygments_lexer": "ipython3",
   "version": "3.9.0"
  }
 },
 "nbformat": 4,
 "nbformat_minor": 5
}
