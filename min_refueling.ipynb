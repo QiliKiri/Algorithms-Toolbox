{
 "cells": [
  {
   "cell_type": "markdown",
   "id": "99557d3b-5e91-4418-a9ba-ebeebba6976d",
   "metadata": {},
   "source": [
    "#### Problem Introduction\n",
    "You are going to travel to another city that is located 𝑑 miles away from your home city. Your car can travel at most 𝑚 miles on a full tank and you start with a full tank. Along your way, there are gas stations at distances stop1 ,stop2, . . . ,stop𝑛 from your home city. What is the minimum number of refills needed?\n",
    "#### Output Format. \n",
    "output the minimum number of refills needed. Assume that the car starts with a full tank. If it is not possible to reach the destination, output −1.\n",
    "### Constraints. \n",
    "1 ≤ 𝑑 ≤ 105\n",
    ". 1 ≤ 𝑚 ≤ 400. 1 ≤ 𝑛 ≤ 300. 0 < stop1 < stop2 < · · · < stop𝑛 < 𝑑.\n"
   ]
  },
  {
   "cell_type": "code",
   "execution_count": 37,
   "id": "cdb25497-9edf-4a0b-98ac-be56e8f045c8",
   "metadata": {},
   "outputs": [],
   "source": [
    "def min_carfueling(total_dist, fulltank_dist, refillstops):\n",
    "    dist_traveled = 0\n",
    "    refill_taken = 0\n",
    "    total_stops = len(refillstops)\n",
    "    stop = 0\n",
    "    max_travel = dist_traveled + fulltank_dist\n",
    "    \n",
    "    # check if we can't arrive destination with full tank?\n",
    "    while max_travel < total_dist:\n",
    "        \n",
    "        # if true, check are there any stops or can we reach the stop?\n",
    "        if stop >= total_stops or max_travel < refillstops[stop]:\n",
    "            # if False, it is impossible to arrive destination.\n",
    "            return -1\n",
    "        \n",
    "        # if true, move to furtherest reachable stop if there's any.\n",
    "        while stop < total_stops:\n",
    "            # check if we can move to nearest stop\n",
    "            if max_travel >= refillstops[stop]:\n",
    "                # if true, we move to it\n",
    "                dist_traveled = refillstops[stop]\n",
    "                # nearest stop become the one after the previous one\n",
    "                stop += 1\n",
    "                \n",
    "            # after move to furtherest reachable stop, break.\n",
    "            else:\n",
    "                break\n",
    "                \n",
    "        # since we can't arrive destination without refill (that's why we are in the while loop),\n",
    "        # and we can reach at least one stop (if not, we already return -1 above),\n",
    "        # and we go to the furtherest reachable stop,\n",
    "        # so we refill one time in the loop\n",
    "        refill_taken += 1\n",
    "        \n",
    "        # we are now on the furtherest stop, we refill and can move one fulltank distance again.\n",
    "        # go back to the while loop to check if we can't arrive the destination.\n",
    "        max_travel = dist_traveled + fulltank_dist\n",
    "\n",
    "    return refill_taken"
   ]
  },
  {
   "cell_type": "code",
   "execution_count": 39,
   "id": "737ae80e-2b01-4efa-8c63-968c731573fe",
   "metadata": {},
   "outputs": [
    {
     "data": {
      "text/plain": [
       "-1"
      ]
     },
     "execution_count": 39,
     "metadata": {},
     "output_type": "execute_result"
    }
   ],
   "source": [
    "carfueling(10, 3, [1, 2, 5, 9])"
   ]
  },
  {
   "cell_type": "code",
   "execution_count": null,
   "id": "a77c3cb0-8aa9-4ede-84b1-9804b4ad9473",
   "metadata": {},
   "outputs": [],
   "source": []
  }
 ],
 "metadata": {
  "kernelspec": {
   "display_name": "Python 3",
   "language": "python",
   "name": "python3"
  },
  "language_info": {
   "codemirror_mode": {
    "name": "ipython",
    "version": 3
   },
   "file_extension": ".py",
   "mimetype": "text/x-python",
   "name": "python",
   "nbconvert_exporter": "python",
   "pygments_lexer": "ipython3",
   "version": "3.9.0"
  }
 },
 "nbformat": 4,
 "nbformat_minor": 5
}
