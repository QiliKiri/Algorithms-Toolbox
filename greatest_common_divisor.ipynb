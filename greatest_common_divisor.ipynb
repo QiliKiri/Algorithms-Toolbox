{
 "cells": [
  {
   "cell_type": "code",
   "execution_count": 1,
   "id": "364c6f6f-6aa7-4108-b1ab-596f0f781d5b",
   "metadata": {},
   "outputs": [],
   "source": [
    "def gcd_naive(a, b):\n",
    "    current_gcd = 1\n",
    "    for d in range(2, min(a, b) + 1):\n",
    "        if a % d == 0 and b % d == 0:\n",
    "            if d > current_gcd:\n",
    "                current_gcd = d\n",
    "\n",
    "    return current_gcd"
   ]
  },
  {
   "cell_type": "code",
   "execution_count": 3,
   "id": "c6ae9c63-70dd-4438-acfd-cec30e0ae3a0",
   "metadata": {},
   "outputs": [],
   "source": [
    "def gcd_fast(a, b):\n",
    "    if b == 0:\n",
    "        return a\n",
    "    reminder = a % b\n",
    "    \n",
    "    # if a<b, reminder will be a itself, such that gcd_fast(b, reminder)\n",
    "    # just swap the position of a and b, in other word, the return is actually\n",
    "    # gcd_fast(b, a).\n",
    "    # So this algorithms works regardless of whether a>b or a<b.\n",
    "    \n",
    "    return gcd_fast(b, reminder)"
   ]
  }
 ],
 "metadata": {
  "kernelspec": {
   "display_name": "Python 3",
   "language": "python",
   "name": "python3"
  },
  "language_info": {
   "codemirror_mode": {
    "name": "ipython",
    "version": 3
   },
   "file_extension": ".py",
   "mimetype": "text/x-python",
   "name": "python",
   "nbconvert_exporter": "python",
   "pygments_lexer": "ipython3",
   "version": "3.9.0"
  }
 },
 "nbformat": 4,
 "nbformat_minor": 5
}
